{
 "cells": [
  {
   "cell_type": "markdown",
   "metadata": {},
   "source": [
    "# NOAA : Extraction de la pluviométrie\n",
    "\n",
    "Dataset :\n",
    "- le resultat précédent\n",
    "- La liste des pays\n",
    "\n",
    "\n",
    "Exercice :\n",
    "- Fusionner les deux fichiers pour obtenir un nouveau jeux de données avec les codes sur 3 lettres (ISO3166-1-Alpha-3)\n",
    "- Le format du fichier NOAA est \"FIPS\"\n",
    "- Attention à vérifier que vous ne laisser pas de pays de côté\n",
    "- Corriger le code pays manquant\n",
    "- Regarder le plan d'exécution\n",
    "- Sauver"
   ]
  },
  {
   "cell_type": "code",
   "execution_count": 2,
   "metadata": {},
   "outputs": [],
   "source": [
    "#!hdfs dfs -ls /stagiaire/430-Benoit/noaa/daily_rain_by_country_2"
   ]
  },
  {
   "cell_type": "code",
   "execution_count": 4,
   "metadata": {},
   "outputs": [],
   "source": [
    "from pyspark import SparkContext\n",
    "from pyspark import SparkConf\n",
    "from pyspark.sql import SparkSession\n",
    "import pyspark.sql.functions as F\n",
    "import shutil"
   ]
  },
  {
   "cell_type": "code",
   "execution_count": 6,
   "metadata": {},
   "outputs": [],
   "source": [
    "SPARK_MASTER = 'spark://localhost:7077'\n",
    "APP_NAME = 'Join Country - 430'\n",
    "\n",
    "noaa_csv_path = '/stagiaire/430-Benoit/noaa/daily_rain_by_country_2' \n",
    "output = '/stagiaire/430-Benoit/noaa/daily_rain_by_country_ISO3'\n",
    "\n",
    "# Create Spark session\n",
    "spark = SparkSession.builder.master(SPARK_MASTER).appName(APP_NAME).getOrCreate()\n",
    "sc = spark.sparkContext"
   ]
  },
  {
   "cell_type": "code",
   "execution_count": 7,
   "metadata": {},
   "outputs": [
    {
     "name": "stdout",
     "output_type": "stream",
     "text": [
      "+-------+----------+---+------------------+--------+--------+------------------+\n",
      "|COUNTRY|      date|cnt|          avg_prcp|sum_prcp|max_prcp|       stddev_prcp|\n",
      "+-------+----------+---+------------------+--------+--------+------------------+\n",
      "|     TZ|1980-05-20| 10|              24.9|   249.0|     138|  50.7114933279977|\n",
      "|     BE|1980-05-19|  1|               0.0|     0.0|       0|               NaN|\n",
      "|     FR|1980-05-19| 88|14.136363636363637|  1244.0|     216|36.977527135567776|\n",
      "+-------+----------+---+------------------+--------+--------+------------------+\n",
      "only showing top 3 rows\n",
      "\n"
     ]
    }
   ],
   "source": [
    "df = spark.read.format('csv').option('header',True).option('multiLine', True).load(noaa_csv_path)\n",
    "df.show(3)"
   ]
  },
  {
   "cell_type": "code",
   "execution_count": 9,
   "metadata": {},
   "outputs": [
    {
     "name": "stdout",
     "output_type": "stream",
     "text": [
      "Found 3 items\n",
      "drwxr-xr-x   - root supergroup          0 2020-11-25 09:33 /demo/noaa/.ipynb_checkpoints\n",
      "-rw-r--r--   1 root supergroup     129984 2020-11-25 09:33 /demo/noaa/country-codes.csv\n",
      "drwxr-xr-x   - root supergroup          0 2020-11-25 09:33 /demo/noaa/noaa-raw-data\n"
     ]
    }
   ],
   "source": [
    "!hdfs dfs -ls /demo/noaa"
   ]
  },
  {
   "cell_type": "code",
   "execution_count": null,
   "metadata": {},
   "outputs": [],
   "source": [
    "# Charger la liste\n",
    "df_pays = spark.read.format('csv').option('header',True).option('multiLine', True).load(XXXX)\n",
    "df_pays.show(3)\n"
   ]
  },
  {
   "cell_type": "code",
   "execution_count": null,
   "metadata": {},
   "outputs": [],
   "source": [
    "#     Fusionner les deux fichiers pour obtenir un nouveau jeux de données avec les codes sur 3 lettres (ISO3166-1-Alpha-3)\n",
    "\n",
    "#     Le format du fichier NOAA est \"FIPS\"\n",
    "\n",
    "\n",
    "#     Attention à vérifier que vous ne laisser pas de pays de côté\n",
    "\n",
    "\n",
    "#     Corriger le code pays manquant\n",
    "\n",
    "\n",
    "#     Regarder le plan d'exécution\n",
    "\n",
    "\n",
    "\n",
    "#     Sauver\n"
   ]
  },
  {
   "cell_type": "code",
   "execution_count": null,
   "metadata": {},
   "outputs": [],
   "source": [
    "sqlDF.write.csv(output)\n",
    "print(sqlDF.columns)\n"
   ]
  },
  {
   "cell_type": "code",
   "execution_count": 11,
   "metadata": {},
   "outputs": [],
   "source": [
    "sc.stop()"
   ]
  },
  {
   "cell_type": "code",
   "execution_count": null,
   "metadata": {},
   "outputs": [],
   "source": []
  }
 ],
 "metadata": {
  "kernelspec": {
   "display_name": "Python 3",
   "language": "python",
   "name": "python3"
  },
  "language_info": {
   "codemirror_mode": {
    "name": "ipython",
    "version": 3
   },
   "file_extension": ".py",
   "mimetype": "text/x-python",
   "name": "python",
   "nbconvert_exporter": "python",
   "pygments_lexer": "ipython3",
   "version": "3.8.6"
  }
 },
 "nbformat": 4,
 "nbformat_minor": 4
}
