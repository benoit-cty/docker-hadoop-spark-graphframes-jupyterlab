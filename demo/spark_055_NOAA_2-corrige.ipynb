{
 "cells": [
  {
   "cell_type": "markdown",
   "metadata": {},
   "source": [
    "# NOAA : Extraction de la pluviométrie\n",
    "\n",
    "Dataset :\n",
    "- le resultat précédent\n",
    "- La liste des pays\n",
    "\n",
    "\n",
    "Exercice :\n",
    "- Fusionner les deux fichiers pour obtenir un nouveau jeux de données avec les codes sur 3 lettres (ISO3166-1-Alpha-3)\n",
    "- Le format du fichier NOAA est \"FIPS\"\n",
    "- Attention à vérifier que vous ne laisser pas de pays de côté\n",
    "- Corriger le code pays manquant\n",
    "- Regarder le plan d'exécution\n",
    "- Sauver"
   ]
  },
  {
   "cell_type": "code",
   "execution_count": 2,
   "metadata": {},
   "outputs": [],
   "source": [
    "#!hdfs dfs -ls /stagiaire/430-Benoit/noaa/daily_rain_by_country_2"
   ]
  },
  {
   "cell_type": "code",
   "execution_count": 1,
   "metadata": {},
   "outputs": [],
   "source": [
    "from pyspark import SparkContext\n",
    "from pyspark import SparkConf\n",
    "from pyspark.sql import SparkSession\n",
    "import pyspark.sql.functions as F\n",
    "import shutil"
   ]
  },
  {
   "cell_type": "code",
   "execution_count": 2,
   "metadata": {},
   "outputs": [],
   "source": [
    "SPARK_MASTER = 'spark://localhost:7077'\n",
    "APP_NAME = 'Join Country - 430 -BCO'\n",
    "\n",
    "noaa_csv_path = '/stagiaire/430-Benoit/noaa/daily_rain_by_country_2' \n",
    "output = '/stagiaire/430-Benoit/noaa/daily_rain_by_country_ISO3'\n",
    "\n",
    "# Create Spark session\n",
    "spark = SparkSession.builder.master(SPARK_MASTER).appName(APP_NAME).getOrCreate()\n",
    "sc = spark.sparkContext"
   ]
  },
  {
   "cell_type": "code",
   "execution_count": 4,
   "metadata": {},
   "outputs": [
    {
     "name": "stdout",
     "output_type": "stream",
     "text": [
      "+-------+----------+---+------------------+--------+--------+------------------+\n",
      "|COUNTRY|      date|cnt|          avg_prcp|sum_prcp|max_prcp|       stddev_prcp|\n",
      "+-------+----------+---+------------------+--------+--------+------------------+\n",
      "|     TZ|1980-05-20| 10|              24.9|   249.0|     138|  50.7114933279977|\n",
      "|     BE|1980-05-19|  1|               0.0|     0.0|       0|               NaN|\n",
      "|     FR|1980-05-19| 88|14.136363636363637|  1244.0|     216|36.977527135567776|\n",
      "+-------+----------+---+------------------+--------+--------+------------------+\n",
      "only showing top 3 rows\n",
      "\n"
     ]
    }
   ],
   "source": [
    "df = spark.read.format('csv').option('header',True).option('multiLine', True).load(noaa_csv_path)\n",
    "df.show(3)"
   ]
  },
  {
   "cell_type": "code",
   "execution_count": 6,
   "metadata": {},
   "outputs": [
    {
     "name": "stdout",
     "output_type": "stream",
     "text": [
      "Found 3 items\n",
      "drwxr-xr-x   - root supergroup          0 2020-11-25 09:33 /demo/noaa/.ipynb_checkpoints\n",
      "-rw-r--r--   1 root supergroup     129984 2020-11-25 09:33 /demo/noaa/country-codes.csv\n",
      "drwxr-xr-x   - root supergroup          0 2020-11-25 09:33 /demo/noaa/noaa-raw-data\n"
     ]
    }
   ],
   "source": [
    "!hdfs dfs -ls /demo/noaa"
   ]
  },
  {
   "cell_type": "code",
   "execution_count": 5,
   "metadata": {},
   "outputs": [
    {
     "name": "stdout",
     "output_type": "stream",
     "text": [
      "Load table of country code\n"
     ]
    }
   ],
   "source": [
    "# Charger la liste\n",
    "print('Load table of country code')\n",
    "df_country_codes = spark.read.format('csv').option('header',True).option('multiLine', True).load('/demo/noaa/country-codes.csv')\n",
    "df_country_codes.createOrReplaceTempView(\"country_codes\")"
   ]
  },
  {
   "cell_type": "code",
   "execution_count": 6,
   "metadata": {},
   "outputs": [
    {
     "name": "stdout",
     "output_type": "stream",
     "text": [
      "+----+----+-----------------+----+--------------+-----------------+----+----+----+-----------------+----+---+---+---------------------+-----------+------------------------+----------------+--------------------+---------------------+--------------------------------+---------------------+--------------------+--------------------------------+-------------------------------------+--------------------+-----------------------------+---------------------+--------------------+--------------------+----+---------------+-----------+----------------+---------------------------+--------------------+--------------------+---------------------------------------+------------------------+----------------+---------------------+----------------+----------------+-----------------------------+-------------------------------+-----------+-------------------+---------------+----------------+-----------+-------+---------+---+-----------------+----------+-----------------+------+\n",
      "|FIFA|Dial|ISO3166-1-Alpha-3|MARC|is_independent|ISO3166-1-numeric|GAUL|FIPS| WMO|ISO3166-1-Alpha-2| ITU|IOC| DS|UNTERM Spanish Formal|Global Code|Intermediate Region Code|official_name_fr| UNTERM French Short|ISO4217-currency_name|Developed / Developing Countries|UNTERM Russian Formal|UNTERM English Short|ISO4217-currency_alphabetic_code|Small Island Developing States (SIDS)|UNTERM Spanish Short|ISO4217-currency_numeric_code|UNTERM Chinese Formal|UNTERM French Formal|UNTERM Russian Short| M49|Sub-region Code|Region Code|official_name_ar|ISO4217-currency_minor_unit|UNTERM Arabic Formal|UNTERM Chinese Short|Land Locked Developing Countries (LLDC)|Intermediate Region Name|official_name_es|UNTERM English Formal|official_name_cn|official_name_en|ISO4217-currency_country_name|Least Developed Countries (LDC)|Region Name|UNTERM Arabic Short|Sub-region Name|official_name_ru|Global Name|Capital|Continent|TLD|        Languages|Geoname ID|CLDR display name|EDGAR\n",
      "+----+----+-----------------+----+--------------+-----------------+----+----+----+-----------------+----+---+---+---------------------+-----------+------------------------+----------------+--------------------+---------------------+--------------------------------+---------------------+--------------------+--------------------------------+-------------------------------------+--------------------+-----------------------------+---------------------+--------------------+--------------------+----+---------------+-----------+----------------+---------------------------+--------------------+--------------------+---------------------------------------+------------------------+----------------+---------------------+----------------+----------------+-----------------------------+-------------------------------+-----------+-------------------+---------------+----------------+-----------+-------+---------+---+-----------------+----------+-----------------+------+\n",
      "| TPE| 886|              TWN|  ch|           Yes|              158| 925|  TW|null|               TW|null|TPE| RC|                 null|       null|                    null|            null|                null|                 null|                            null|                 null|                null|                            null|                                 null|                null|                         null|                 null|                null|                null|null|           null|       null|            null|                       null|                null|                null|                                   null|                    null|            null|                 null|            null|            null|                         null|                           null|       null|               null|           null|            null|       null| Taipei|       AS|.tw| zh-TW,zh,nan,hak|   1668284|           Taiwan|     \n",
      "| AFG|  93|              AFG|  af|           Yes|              004|   1|  AF|  AF|               AF| AFG|AFG|AFG| República Islámic...|       True|                    null|     Afghanistan|Afghanistan (l') ...|              Afghani|                      Developing| Исламская Республ...|         Afghanistan|                             AFN|                                 null|     Afganistán (el)|                          971|   阿富汗伊斯兰共和国|République islami...|          Афганистан|   4|             34|        142|       أفغانستان|                          2|جمهورية أفغانستان...|              阿富汗|                                      x|                    null|      Afganistán| the Islamic Repub...|          阿富汗|     Afghanistan|                  AFGHANISTAN|                              x|       Asia|          أفغانستان|  Southern Asia|      Афганистан|      World|  Kabul|       AS|.af|fa-AF,ps,uz-AF,tk|   1149361|      Afghanistan|   B2\n",
      "+----+----+-----------------+----+--------------+-----------------+----+----+----+-----------------+----+---+---+---------------------+-----------+------------------------+----------------+--------------------+---------------------+--------------------------------+---------------------+--------------------+--------------------------------+-------------------------------------+--------------------+-----------------------------+---------------------+--------------------+--------------------+----+---------------+-----------+----------------+---------------------------+--------------------+--------------------+---------------------------------------+------------------------+----------------+---------------------+----------------+----------------+-----------------------------+-------------------------------+-----------+-------------------+---------------+----------------+-----------+-------+---------+---+-----------------+----------+-----------------+------+\n",
      "only showing top 2 rows\n",
      "\n"
     ]
    }
   ],
   "source": [
    "df_country_codes.show(2)"
   ]
  },
  {
   "cell_type": "code",
   "execution_count": 7,
   "metadata": {},
   "outputs": [
    {
     "name": "stdout",
     "output_type": "stream",
     "text": [
      "+-------+----------+---+--------+--------+--------+----------------+\n",
      "|COUNTRY|      date|cnt|avg_prcp|sum_prcp|max_prcp|     stddev_prcp|\n",
      "+-------+----------+---+--------+--------+--------+----------------+\n",
      "|     TZ|1980-05-20| 10|    24.9|   249.0|     138|50.7114933279977|\n",
      "|     BE|1980-05-19|  1|     0.0|     0.0|       0|             NaN|\n",
      "+-------+----------+---+--------+--------+--------+----------------+\n",
      "only showing top 2 rows\n",
      "\n"
     ]
    }
   ],
   "source": [
    "df.show(2)"
   ]
  },
  {
   "cell_type": "code",
   "execution_count": 8,
   "metadata": {},
   "outputs": [
    {
     "name": "stdout",
     "output_type": "stream",
     "text": [
      "Join NOAA and countries\n",
      "+-------+------------+----------+------------------+--------+--------+---+\n",
      "|COUNTRY|country_ISO3|      date|          avg_prcp|sum_prcp|max_prcp|cnt|\n",
      "+-------+------------+----------+------------------+--------+--------+---+\n",
      "|     TZ|         TZA|1980-05-20|              24.9|   249.0|     138| 10|\n",
      "|     BE|         BEL|1980-05-19|               0.0|     0.0|       0|  1|\n",
      "|     FR|         FRA|1980-05-19|14.136363636363637|  1244.0|     216| 88|\n",
      "+-------+------------+----------+------------------+--------+--------+---+\n",
      "only showing top 3 rows\n",
      "\n"
     ]
    }
   ],
   "source": [
    "#     Fusionner les deux fichiers pour obtenir un nouveau jeux de données avec les codes sur 3 lettres (ISO3166-1-Alpha-3)\n",
    "df.createOrReplaceTempView(\"noaa\")\n",
    "print('Join NOAA and countries')\n",
    "df_full = spark.sql(\"\"\"SELECT COUNTRY, country_codes.`ISO3166-1-Alpha-3` as country_ISO3, date, avg_prcp, sum_prcp, max_prcp, cnt \n",
    "                            FROM noaa LEFT JOIN country_codes ON noaa.COUNTRY=country_codes.FIPS\n",
    "                            \"\"\")\n",
    "df_full.show(3)"
   ]
  },
  {
   "cell_type": "code",
   "execution_count": 13,
   "metadata": {},
   "outputs": [
    {
     "name": "stdout",
     "output_type": "stream",
     "text": [
      "+-------+------------+\n",
      "|COUNTRY|country_ISO3|\n",
      "+-------+------------+\n",
      "|     RI|        null|\n",
      "|     RI|        null|\n",
      "|     RI|        null|\n",
      "+-------+------------+\n",
      "only showing top 3 rows\n",
      "\n"
     ]
    }
   ],
   "source": [
    "df_full.createOrReplaceTempView(\"noaa_join\")\n",
    "#     Attention à vérifier que vous ne laisser pas de pays de côté\n",
    "spark.sql(\"\"\"SELECT COUNTRY, country_ISO3\n",
    "                            FROM noaa_join\n",
    "                            WHERE country_ISO3 IS NULL\n",
    "                            \"\"\").show(3)"
   ]
  },
  {
   "cell_type": "code",
   "execution_count": 11,
   "metadata": {},
   "outputs": [
    {
     "name": "stdout",
     "output_type": "stream",
     "text": [
      "+------------+-----+\n",
      "|country_ISO3| FIPS|\n",
      "+------------+-----+\n",
      "|         SRB|RI,KV|\n",
      "+------------+-----+\n",
      "\n"
     ]
    }
   ],
   "source": [
    "spark.sql(\"\"\"SELECT  country_codes.`ISO3166-1-Alpha-3` as country_ISO3, country_codes.FIPS\n",
    "                            FROM country_codes\n",
    "                            WHERE country_codes.`ISO3166-1-Alpha-3` = 'SRB'\n",
    "                            \"\"\").show(3)"
   ]
  },
  {
   "cell_type": "code",
   "execution_count": 16,
   "metadata": {},
   "outputs": [
    {
     "name": "stdout",
     "output_type": "stream",
     "text": [
      "+-------+------------+----------+------------------+--------+--------+---+\n",
      "|COUNTRY|country_ISO3|      date|          avg_prcp|sum_prcp|max_prcp|cnt|\n",
      "+-------+------------+----------+------------------+--------+--------+---+\n",
      "|     TZ|         TZA|1980-05-20|              24.9|   249.0|     138| 10|\n",
      "|     BE|         BEL|1980-05-19|               0.0|     0.0|       0|  1|\n",
      "|     FR|         FRA|1980-05-19|14.136363636363637|  1244.0|     216| 88|\n",
      "|     RI|         SRB|1980-05-19|45.333333333333336|   136.0|     132|  3|\n",
      "|     TZ|         TZA|1980-05-19|             114.0|  1140.0|     686| 10|\n",
      "+-------+------------+----------+------------------+--------+--------+---+\n",
      "only showing top 5 rows\n",
      "\n"
     ]
    }
   ],
   "source": [
    "df_full.fillna({\"country_ISO3\":'SRB'}).show(5)"
   ]
  },
  {
   "cell_type": "code",
   "execution_count": 17,
   "metadata": {},
   "outputs": [
    {
     "name": "stdout",
     "output_type": "stream",
     "text": [
      "+-------+------------+----------+------------------+--------+--------+---+--------------+\n",
      "|COUNTRY|country_ISO3|      date|          avg_prcp|sum_prcp|max_prcp|cnt|Country_ISO3-2|\n",
      "+-------+------------+----------+------------------+--------+--------+---+--------------+\n",
      "|     TZ|         TZA|1980-05-20|              24.9|   249.0|     138| 10|           TZA|\n",
      "|     BE|         BEL|1980-05-19|               0.0|     0.0|       0|  1|           BEL|\n",
      "|     FR|         FRA|1980-05-19|14.136363636363637|  1244.0|     216| 88|           FRA|\n",
      "|     RI|        null|1980-05-19|45.333333333333336|   136.0|     132|  3|           SRB|\n",
      "|     TZ|         TZA|1980-05-19|             114.0|  1140.0|     686| 10|           TZA|\n",
      "+-------+------------+----------+------------------+--------+--------+---+--------------+\n",
      "only showing top 5 rows\n",
      "\n"
     ]
    }
   ],
   "source": [
    "#     Corriger le code pays manquant\n",
    "df_full.withColumn(\"Country_ISO3-2\", F.when(F.col(\"COUNTRY\") == 'RI', 'SRB').otherwise(F.col(\"country_ISO3\"))).show(5)\n",
    "#df_full"
   ]
  },
  {
   "cell_type": "code",
   "execution_count": 18,
   "metadata": {},
   "outputs": [
    {
     "name": "stdout",
     "output_type": "stream",
     "text": [
      "+-------+------------+----------+------------------+--------+--------+---+\n",
      "|COUNTRY|country_ISO3|      date|          avg_prcp|sum_prcp|max_prcp|cnt|\n",
      "+-------+------------+----------+------------------+--------+--------+---+\n",
      "|     TZ|         TZA|1980-05-20|              24.9|   249.0|     138| 10|\n",
      "|     BE|         BEL|1980-05-19|               0.0|     0.0|       0|  1|\n",
      "|     FR|         FRA|1980-05-19|14.136363636363637|  1244.0|     216| 88|\n",
      "|     RI|         SRB|1980-05-19|45.333333333333336|   136.0|     132|  3|\n",
      "|     TZ|         TZA|1980-05-19|             114.0|  1140.0|     686| 10|\n",
      "+-------+------------+----------+------------------+--------+--------+---+\n",
      "only showing top 5 rows\n",
      "\n"
     ]
    }
   ],
   "source": [
    "#     Corriger le code pays manquant\n",
    "df_full.withColumn(\"country_ISO3\", F.when(F.col(\"COUNTRY\") == 'RI', 'SRB').otherwise(F.col(\"country_ISO3\"))).show(5)\n",
    "#df_full"
   ]
  },
  {
   "cell_type": "code",
   "execution_count": 20,
   "metadata": {},
   "outputs": [
    {
     "name": "stdout",
     "output_type": "stream",
     "text": [
      "== Physical Plan ==\n",
      "*(2) Project [COUNTRY#50, coalesce(ISO3166-1-Alpha-3#102, SRB) AS country_ISO3#896, date#51, avg_prcp#53, sum_prcp#54, max_prcp#55, cnt#52]\n",
      "+- *(2) BroadcastHashJoin [COUNTRY#50], [FIPS#107], LeftOuter, BuildRight\n",
      "   :- FileScan csv [COUNTRY#50,date#51,cnt#52,avg_prcp#53,sum_prcp#54,max_prcp#55] Batched: false, DataFilters: [], Format: CSV, Location: InMemoryFileIndex[hdfs://localhost/stagiaire/430-Benoit/noaa/daily_rain_by_country_2], PartitionFilters: [], PushedFilters: [], ReadSchema: struct<COUNTRY:string,date:string,cnt:string,avg_prcp:string,sum_prcp:string,max_prcp:string>\n",
      "   +- BroadcastExchange HashedRelationBroadcastMode(List(input[1, string, true])), [id=#430]\n",
      "      +- *(1) Project [ISO3166-1-Alpha-3#102, FIPS#107]\n",
      "         +- *(1) Filter isnotnull(FIPS#107)\n",
      "            +- FileScan csv [ISO3166-1-Alpha-3#102,FIPS#107] Batched: false, DataFilters: [isnotnull(FIPS#107)], Format: CSV, Location: InMemoryFileIndex[hdfs://localhost/demo/noaa/country-codes.csv], PartitionFilters: [], PushedFilters: [IsNotNull(FIPS)], ReadSchema: struct<ISO3166-1-Alpha-3:string,FIPS:string>\n",
      "\n",
      "\n"
     ]
    }
   ],
   "source": [
    "#     Regarder le plan d'exécution\n",
    "df_full.fillna({\"country_ISO3\":'SRB'}).explain()"
   ]
  },
  {
   "cell_type": "code",
   "execution_count": 19,
   "metadata": {},
   "outputs": [
    {
     "name": "stdout",
     "output_type": "stream",
     "text": [
      "== Physical Plan ==\n",
      "*(2) Project [COUNTRY#50, ISO3166-1-Alpha-3#102 AS country_ISO3#529, date#51, avg_prcp#53, sum_prcp#54, max_prcp#55, cnt#52, CASE WHEN (COUNTRY#50 = RI) THEN SRB ELSE ISO3166-1-Alpha-3#102 END AS Country_ISO3-2#880]\n",
      "+- *(2) BroadcastHashJoin [COUNTRY#50], [FIPS#107], LeftOuter, BuildRight\n",
      "   :- FileScan csv [COUNTRY#50,date#51,cnt#52,avg_prcp#53,sum_prcp#54,max_prcp#55] Batched: false, DataFilters: [], Format: CSV, Location: InMemoryFileIndex[hdfs://localhost/stagiaire/430-Benoit/noaa/daily_rain_by_country_2], PartitionFilters: [], PushedFilters: [], ReadSchema: struct<COUNTRY:string,date:string,cnt:string,avg_prcp:string,sum_prcp:string,max_prcp:string>\n",
      "   +- BroadcastExchange HashedRelationBroadcastMode(List(input[1, string, true])), [id=#398]\n",
      "      +- *(1) Project [ISO3166-1-Alpha-3#102, FIPS#107]\n",
      "         +- *(1) Filter isnotnull(FIPS#107)\n",
      "            +- FileScan csv [ISO3166-1-Alpha-3#102,FIPS#107] Batched: false, DataFilters: [isnotnull(FIPS#107)], Format: CSV, Location: InMemoryFileIndex[hdfs://localhost/demo/noaa/country-codes.csv], PartitionFilters: [], PushedFilters: [IsNotNull(FIPS)], ReadSchema: struct<ISO3166-1-Alpha-3:string,FIPS:string>\n",
      "\n",
      "\n"
     ]
    }
   ],
   "source": [
    "#     Corriger le code pays manquant\n",
    "df_full.withColumn(\"Country_ISO3-2\", F.when(F.col(\"COUNTRY\") == 'RI', 'SRB').otherwise(F.col(\"country_ISO3\"))).explain()\n",
    "#df_full"
   ]
  },
  {
   "cell_type": "code",
   "execution_count": 21,
   "metadata": {},
   "outputs": [],
   "source": [
    "#     Sauver\n",
    "sqlDF = df_full.withColumn(\"country_ISO3\", F.when(F.col(\"COUNTRY\") == 'RI', 'SRB').otherwise(F.col(\"country_ISO3\")))\n"
   ]
  },
  {
   "cell_type": "code",
   "execution_count": 22,
   "metadata": {},
   "outputs": [
    {
     "name": "stdout",
     "output_type": "stream",
     "text": [
      "['COUNTRY', 'country_ISO3', 'date', 'avg_prcp', 'sum_prcp', 'max_prcp', 'cnt']\n"
     ]
    }
   ],
   "source": [
    "sqlDF.write.csv(output, header=True)\n",
    "print(sqlDF.columns)"
   ]
  },
  {
   "cell_type": "code",
   "execution_count": 23,
   "metadata": {},
   "outputs": [],
   "source": [
    "sc.stop()"
   ]
  },
  {
   "cell_type": "code",
   "execution_count": null,
   "metadata": {},
   "outputs": [],
   "source": []
  }
 ],
 "metadata": {
  "kernelspec": {
   "display_name": "Python 3",
   "language": "python",
   "name": "python3"
  },
  "language_info": {
   "codemirror_mode": {
    "name": "ipython",
    "version": 3
   },
   "file_extension": ".py",
   "mimetype": "text/x-python",
   "name": "python",
   "nbconvert_exporter": "python",
   "pygments_lexer": "ipython3",
   "version": "3.8.6"
  }
 },
 "nbformat": 4,
 "nbformat_minor": 4
}
