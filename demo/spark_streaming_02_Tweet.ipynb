{
 "cells": [
  {
   "cell_type": "markdown",
   "metadata": {},
   "source": [
    "# pySpark : Streaming Tweet\n",
    "\n",
    "Run :\n",
    "- Change credentials\n",
    "- run this notebook\n",
    "- run spark_streaming_03b_Tweet_spark.ipynb\n",
    "- run : ~/ipynb/tweet_dashboard# python app.py"
   ]
  },
  {
   "cell_type": "code",
   "execution_count": null,
   "metadata": {},
   "outputs": [],
   "source": [
    "#!pip requests_oauthlib"
   ]
  },
  {
   "cell_type": "code",
   "execution_count": null,
   "metadata": {},
   "outputs": [],
   "source": [
    "import socket\n",
    "import sys\n",
    "import requests\n",
    "import requests_oauthlib\n",
    "import json"
   ]
  },
  {
   "cell_type": "code",
   "execution_count": null,
   "metadata": {},
   "outputs": [],
   "source": [
    "# Replace the values below with yours\n",
    "CONSUMER_KEY = 'P2YRxgEDOIqLPbFAlyep42Wyi'\n",
    "CONSUMER_SECRET = 'hYHYbi7k78o0lHglVV5iBsXw2oAFsQl52Mjk8zj2rzLc30Tpja'\n",
    "ACCESS_TOKEN = '106699008-MOW8L3gqtULlaXMZpzte9EOiVGTXrxcPjU1v5jbe'\n",
    "ACCESS_SECRET = 'aZm02LUdNenTCyzlrDA9HfvMF3UoWfVlTlJu9AYJujSzE'\n",
    "my_auth = requests_oauthlib.OAuth1(CONSUMER_KEY, CONSUMER_SECRET,ACCESS_TOKEN, ACCESS_SECRET)"
   ]
  },
  {
   "cell_type": "code",
   "execution_count": null,
   "metadata": {},
   "outputs": [],
   "source": [
    "def get_tweets():\n",
    "    url = 'https://stream.twitter.com/1.1/statuses/filter.json'\n",
    "    query_data = [('language', 'en'), ('locations', '-130,-20,100,50'),('track','#')]\n",
    "    query_url = url + '?' + '&'.join([str(t[0]) + '=' + str(t[1]) for t in query_data])\n",
    "    response = requests.get(query_url, auth=my_auth, stream=True)\n",
    "    print(query_url, response)\n",
    "    return response"
   ]
  },
  {
   "cell_type": "code",
   "execution_count": null,
   "metadata": {},
   "outputs": [],
   "source": [
    "import string\n",
    "printable = set(string.printable)\n",
    "def filter_str(s):\n",
    "    return \"\".join(\n",
    "        filter(\n",
    "            lambda x: x in printable,\n",
    "            s)\n",
    "    )\n",
    "# https://www.programiz.com/python-programming/methods/built-in/filter"
   ]
  },
  {
   "cell_type": "code",
   "execution_count": null,
   "metadata": {},
   "outputs": [],
   "source": [
    "string.printable"
   ]
  },
  {
   "cell_type": "code",
   "execution_count": null,
   "metadata": {},
   "outputs": [],
   "source": [
    "text= \"Un $~étest\"\n",
    "\"\".join(filter(lambda x: x in printable, text))"
   ]
  },
  {
   "cell_type": "code",
   "execution_count": null,
   "metadata": {},
   "outputs": [],
   "source": [
    "def send_tweets_to_spark(http_resp, tcp_connection):\n",
    "    for line in http_resp.iter_lines():\n",
    "        try:\n",
    "            full_tweet = json.loads(line)\n",
    "            tweet_text = filter_str(full_tweet['text']) + '\\n'\n",
    "            #print(\"Tweet Text: \" + tweet_text)\n",
    "            print(\"-\", end='')\n",
    "            #print (\"------------------------------------------\")\n",
    "            tcp_connection.send(tweet_text.encode('utf-8'))\n",
    "        except:\n",
    "            e = sys.exc_info()[0]\n",
    "            print(\"Error: %s\" % e)"
   ]
  },
  {
   "cell_type": "code",
   "execution_count": null,
   "metadata": {},
   "outputs": [],
   "source": [
    "# def send_tweets_to_spark(http_resp, tcp_connection):\n",
    "#     for line in http_resp.iter_lines():\n",
    "#         full_tweet = json.loads(line)\n",
    "#         tweet_text = filter_str(full_tweet['text']) + '\\n'\n",
    "#         print(type(tweet_text))\n",
    "#         print(\"Tweet Text: \" + tweet_text)\n",
    "#         print (\"------------------------------------------\")\n",
    "#         tcp_connection.send(tweet_text.encode('utf-8'))"
   ]
  },
  {
   "cell_type": "code",
   "execution_count": null,
   "metadata": {},
   "outputs": [],
   "source": [
    "# resp = get_tweets()\n",
    "# for line in resp.iter_lines():\n",
    "#     full_tweet = json.loads(line)\n",
    "#     tweet_text = full_tweet['text']\n",
    "#     print(\"Tweet Text: \" + tweet_text)"
   ]
  },
  {
   "cell_type": "code",
   "execution_count": null,
   "metadata": {},
   "outputs": [],
   "source": [
    "TCP_IP = \"localhost\"\n",
    "TCP_PORT = 9009\n",
    "conn = None\n",
    "s = socket.socket(socket.AF_INET, socket.SOCK_STREAM)\n",
    "s.bind((TCP_IP, TCP_PORT))\n",
    "s.listen(1)"
   ]
  },
  {
   "cell_type": "code",
   "execution_count": null,
   "metadata": {},
   "outputs": [],
   "source": [
    "print(\"Waiting for TCP connection...\")\n",
    "conn, addr = s.accept()\n",
    "print(\"Connected... Starting getting tweets.\")\n",
    "resp = get_tweets()\n",
    "send_tweets_to_spark(resp, conn)"
   ]
  },
  {
   "cell_type": "code",
   "execution_count": null,
   "metadata": {},
   "outputs": [],
   "source": [
    "s.close()"
   ]
  }
 ],
 "metadata": {
  "kernelspec": {
   "display_name": "Python 3",
   "language": "python",
   "name": "python3"
  },
  "language_info": {
   "codemirror_mode": {
    "name": "ipython",
    "version": 3
   },
   "file_extension": ".py",
   "mimetype": "text/x-python",
   "name": "python",
   "nbconvert_exporter": "python",
   "pygments_lexer": "ipython3",
   "version": "3.8.6"
  }
 },
 "nbformat": 4,
 "nbformat_minor": 4
}
