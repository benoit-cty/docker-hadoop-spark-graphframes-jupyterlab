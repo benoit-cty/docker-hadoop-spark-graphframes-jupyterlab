{
 "cells": [
  {
   "cell_type": "markdown",
   "metadata": {},
   "source": [
    "# NOAA : Calcule des pluviométries précédentes\n",
    "\n",
    "Dataset :\n",
    "- le resultat précédent\n",
    "\n",
    "Exercice :\n",
    "- Créer pour chaque ligne des colonnes contenant la (moyenne,somme,max) des 5, 10, 20 jours précédants\n",
    "\n",
    "(PAYS, Date, avg_prcp, sum_rain) ajouter (avg_rain_last_5_days, avg_rain_last_10_days, sum_rain_last_5_days, max_rain_last_5_days)\n",
    "\n",
    "\n",
    "\n",
    "\n",
    "Aide : https://kevinvecmanis.io/pyspark/data%20science/python/2019/06/02/SPX-Analysis-With-PySpark.html"
   ]
  },
  {
   "cell_type": "code",
   "execution_count": 2,
   "metadata": {},
   "outputs": [],
   "source": [
    "#!hdfs dfs -ls /demo/noaa/noaa-raw-data"
   ]
  },
  {
   "cell_type": "code",
   "execution_count": 12,
   "metadata": {},
   "outputs": [],
   "source": [
    "from pyspark import SparkContext\n",
    "from pyspark import SparkConf\n",
    "from pyspark.sql import SparkSession\n",
    "import pyspark.sql.functions as F\n",
    "from pyspark.sql.types import FloatType # Spark Date type\n",
    "from pyspark.sql.window import Window\n",
    "import shutil"
   ]
  },
  {
   "cell_type": "code",
   "execution_count": null,
   "metadata": {},
   "outputs": [],
   "source": []
  },
  {
   "cell_type": "code",
   "execution_count": 4,
   "metadata": {},
   "outputs": [],
   "source": [
    "DATASET_FOLDER = '/stagiaire/430-Benoit/noaa/daily_rain_by_country_ISO3'\n",
    "SPARK_MASTER = 'spark://localhost:7077'\n",
    "APP_NAME = 'NOAA Window - 430'\n",
    "\n",
    "noaa_csv_path = DATASET_FOLDER \n",
    "output = '/stagiaire/votre_dossier/noaa/daily_rain_by_country_window'\n",
    "\n",
    "# Create Spark session\n",
    "spark = SparkSession.builder.master(SPARK_MASTER).appName(APP_NAME).getOrCreate()\n"
   ]
  },
  {
   "cell_type": "code",
   "execution_count": 10,
   "metadata": {},
   "outputs": [
    {
     "name": "stdout",
     "output_type": "stream",
     "text": [
      "+-------+------------+----------+------------------+--------+--------+---+\n",
      "|COUNTRY|country_ISO3|      date|          avg_rain|sum_rain|max_rain|cnt|\n",
      "+-------+------------+----------+------------------+--------+--------+---+\n",
      "|     BE|         BEL|1980-05-19|               0.0|     0.0|       0|  1|\n",
      "|     FR|         FRA|1980-05-19|14.136363636363637|  1244.0|     216| 88|\n",
      "|     RI|         SRB|1980-05-19|45.333333333333336|   136.0|     132|  3|\n",
      "+-------+------------+----------+------------------+--------+--------+---+\n",
      "only showing top 3 rows\n",
      "\n"
     ]
    }
   ],
   "source": [
    "df_full = spark.read.format('csv').option('header',True).option('multiLine', True).load(noaa_csv_path)\\\n",
    ".toDF('COUNTRY', 'country_ISO3', 'date', 'avg_rain', 'sum_rain', 'max_rain', 'cnt'\n",
    ")\n",
    "df_full.show(3)"
   ]
  },
  {
   "cell_type": "code",
   "execution_count": 14,
   "metadata": {},
   "outputs": [
    {
     "name": "stdout",
     "output_type": "stream",
     "text": [
      "Cast string to float\n",
      "Cast date to timestamp\n",
      "Helper function to compute number of second in a day\n"
     ]
    }
   ],
   "source": [
    "##############################################################################\n",
    "###### Cast Type\n",
    "print('Cast string to float')\n",
    "df_full = df_full.withColumn(\"avg_rain\", df_full[\"avg_rain\"].cast(FloatType()))\\\n",
    "    .withColumn(\"sum_rain\", df_full[\"sum_rain\"].cast(FloatType())) \\\n",
    "    .withColumn(\"max_rain\", df_full[\"max_rain\"].cast(FloatType()))\n",
    "print('Cast date to timestamp')\n",
    "df_full = df_full.withColumn(\"date_with_time\", F.to_timestamp(df_full.date, 'yyyy-MM-dd'))\n",
    "\n",
    "print('Helper function to compute number of second in a day')\n",
    "days = lambda d:d*24*60*60"
   ]
  },
  {
   "cell_type": "code",
   "execution_count": 15,
   "metadata": {},
   "outputs": [
    {
     "name": "stdout",
     "output_type": "stream",
     "text": [
      "Define a window to make computation\n",
      "Compute moving average and sum\n"
     ]
    }
   ],
   "source": [
    "\n",
    "#############################################################################\n",
    "##### Compute new features\n",
    "# Thanks to  https://kevinvecmanis.io/pyspark/data%20science/python/2019/06/02/SPX-Analysis-With-PySpark.html\n",
    "print('Define a window to make computation')\n",
    "windowSpec = Window.partitionBy(['country_ISO3']).orderBy(F.col(\"date_with_time\").cast(\"long\"))\n",
    "\n",
    "df_rolling = df_full\n",
    "print('Compute moving average and sum')\n",
    "for d in [5,10,20,30,60]:\n",
    "    # Moving Sum of rain\n",
    "    df_rolling = df_rolling.withColumn('last_'+str(d)+'_days_sum', F.sum(\"avg_rain\").over(windowSpec.rangeBetween(-days(d), 0)))\n",
    "    # Moving average of rain\n",
    "    df_rolling = df_rolling.withColumn('last_'+str(d)+'_days_avg', F.avg(\"avg_rain\").over(windowSpec.rangeBetween(-days(d), 0)))\n",
    "    # Moving max of rain\n",
    "    df_rolling = df_rolling.withColumn('last_'+str(d)+'_days_max', F.max(\"max_rain\").over(windowSpec.rangeBetween(-days(d), 0)))"
   ]
  },
  {
   "cell_type": "code",
   "execution_count": 19,
   "metadata": {},
   "outputs": [
    {
     "name": "stdout",
     "output_type": "stream",
     "text": [
      "+------------+----------+---------+------------------+\n",
      "|country_ISO3|      date| avg_rain|  last_30_days_avg|\n",
      "+------------+----------+---------+------------------+\n",
      "|         FRA|2020-01-02| 4.175676|30.452314675815643|\n",
      "|         FRA|2020-01-03|2.3972602|30.486351931287395|\n",
      "|         SRB|2020-01-02|      0.0|16.408602299228793|\n",
      "|         SRB|2020-01-03|      0.0| 14.47311842826105|\n",
      "|         TZA|2020-01-02|      6.5| 102.7915515322839|\n",
      "|         TZA|2020-01-03|      0.0| 99.57649785087955|\n",
      "+------------+----------+---------+------------------+\n",
      "\n"
     ]
    }
   ],
   "source": [
    "df_rolling.createOrReplaceTempView(\"rain\")\n",
    "spark.sql(\"SELECT country_ISO3, date, avg_rain, last_30_days_avg FROM rain WHERE date IN ('2020-01-03', '2020-01-02')\").show()\n"
   ]
  },
  {
   "cell_type": "code",
   "execution_count": 21,
   "metadata": {},
   "outputs": [
    {
     "name": "stdout",
     "output_type": "stream",
     "text": [
      "Define a window to make computation\n",
      "Compute moving average and sum\n",
      "+------------+----------+---------+------------------+\n",
      "|country_ISO3|      date| avg_rain|  last_30_days_avg|\n",
      "+------------+----------+---------+------------------+\n",
      "|         FRA|2020-01-02| 4.175676|50.278461182026696|\n",
      "|         SRB|2020-01-02|      0.0|50.278461182026696|\n",
      "|         TZA|2020-01-02|      6.5|50.278461182026696|\n",
      "|         FRA|2020-01-03|2.3972602| 49.67558221473377|\n",
      "|         SRB|2020-01-03|      0.0| 49.67558221473377|\n",
      "|         TZA|2020-01-03|      0.0| 49.67558221473377|\n",
      "+------------+----------+---------+------------------+\n",
      "\n"
     ]
    }
   ],
   "source": [
    "\n",
    "#############################################################################\n",
    "##### Compute new features\n",
    "# Thanks to  https://kevinvecmanis.io/pyspark/data%20science/python/2019/06/02/SPX-Analysis-With-PySpark.html\n",
    "print('Define a window to make computation')\n",
    "windowSpec = Window.orderBy(F.col(\"date_with_time\").cast(\"long\"))\n",
    "\n",
    "df_rolling2 = df_full\n",
    "print('Compute moving average and sum')\n",
    "df_rolling2 = df_rolling.withColumn('last_30_days_avg', F.avg(\"avg_rain\").over(windowSpec.rangeBetween(-days(d), 0))).withColumn('last_50_days_avg', F.avg(\"avg_rain\").over(windowSpec.rangeBetween(-days(50), 0)))\n",
    "df_rolling2.createOrReplaceTempView(\"rain2\")\n",
    "spark.sql(\"SELECT country_ISO3, date, avg_rain, last_30_days_avg, last_50_days_avg FROM rain2 WHERE date IN ('2020-01-03', '2020-01-02')\").show()"
   ]
  },
  {
   "cell_type": "code",
   "execution_count": 22,
   "metadata": {},
   "outputs": [
    {
     "name": "stdout",
     "output_type": "stream",
     "text": [
      "== Physical Plan ==\n",
      "*(4) Project [country_ISO3#207, date#208, avg_rain#280, last_30_days_avg#820, last_50_days_avg#846]\n",
      "+- *(4) Filter date#208 IN (2020-01-03,2020-01-02)\n",
      "   +- Window [avg(cast(avg_rain#280 as double)) windowspecdefinition(_w0#847L ASC NULLS FIRST, specifiedwindowframe(RangeFrame, -4320000, currentrow$())) AS last_50_days_avg#846], [_w0#847L ASC NULLS FIRST]\n",
      "      +- *(3) Sort [_w0#847L ASC NULLS FIRST], false, 0\n",
      "         +- *(3) Project [country_ISO3#207, date#208, avg_rain#280, last_30_days_avg#820, cast(date_with_time#304 as bigint) AS _w0#847L]\n",
      "            +- Window [avg(cast(avg_rain#280 as double)) windowspecdefinition(_w0#821L ASC NULLS FIRST, specifiedwindowframe(RangeFrame, -5184000, currentrow$())) AS last_30_days_avg#820], [_w0#821L ASC NULLS FIRST]\n",
      "               +- *(2) Sort [_w0#821L ASC NULLS FIRST], false, 0\n",
      "                  +- Exchange SinglePartition, true, [id=#784]\n",
      "                     +- *(1) Project [TZA#193 AS country_ISO3#207, 1980-05-20#194 AS date#208, cast(24.9#195 as float) AS avg_rain#280, gettimestamp(1980-05-20#194, yyyy-MM-dd, Some(Etc/UTC)) AS date_with_time#304, cast(gettimestamp(1980-05-20#194, yyyy-MM-dd, Some(Etc/UTC)) as bigint) AS _w0#821L]\n",
      "                        +- FileScan csv [TZA#193,1980-05-20#194,24.9#195] Batched: false, DataFilters: [], Format: CSV, Location: InMemoryFileIndex[hdfs://localhost/stagiaire/430-Benoit/noaa/daily_rain_by_country_ISO3], PartitionFilters: [], PushedFilters: [], ReadSchema: struct<TZA:string,1980-05-20:string,24.9:string>\n",
      "\n",
      "\n"
     ]
    }
   ],
   "source": [
    "spark.sql(\"SELECT country_ISO3, date, avg_rain, last_30_days_avg, last_50_days_avg FROM rain2 WHERE date IN ('2020-01-03', '2020-01-02')\").explain()"
   ]
  },
  {
   "cell_type": "code",
   "execution_count": 16,
   "metadata": {},
   "outputs": [
    {
     "name": "stdout",
     "output_type": "stream",
     "text": [
      "+-------+------------+----------+--------+--------+--------+---+-------------------+---------------+-----------------+---------------+----------------+-----------------+----------------+----------------+-----------------+----------------+----------------+-----------------+----------------+----------------+-----------------+----------------+\n",
      "|COUNTRY|country_ISO3|      date|avg_rain|sum_rain|max_rain|cnt|     date_with_time|last_5_days_sum|  last_5_days_avg|last_5_days_max|last_10_days_sum| last_10_days_avg|last_10_days_max|last_20_days_sum| last_20_days_avg|last_20_days_max|last_30_days_sum| last_30_days_avg|last_30_days_max|last_60_days_sum| last_60_days_avg|last_60_days_max|\n",
      "+-------+------------+----------+--------+--------+--------+---+-------------------+---------------+-----------------+---------------+----------------+-----------------+----------------+----------------+-----------------+----------------+----------------+-----------------+----------------+----------------+-----------------+----------------+\n",
      "|     FR|         FRA|1877-01-01|     0.0|     0.0|     0.0|  1|1877-01-01 00:00:00|            0.0|              0.0|            0.0|             0.0|              0.0|             0.0|             0.0|              0.0|             0.0|             0.0|              0.0|             0.0|             0.0|              0.0|             0.0|\n",
      "|     FR|         FRA|1877-01-02|    20.0|    20.0|    20.0|  1|1877-01-02 00:00:00|           20.0|             10.0|           20.0|            20.0|             10.0|            20.0|            20.0|             10.0|            20.0|            20.0|             10.0|            20.0|            20.0|             10.0|            20.0|\n",
      "|     FR|         FRA|1877-01-03|     0.0|     0.0|     0.0|  1|1877-01-03 00:00:00|           20.0|6.666666666666667|           20.0|            20.0|6.666666666666667|            20.0|            20.0|6.666666666666667|            20.0|            20.0|6.666666666666667|            20.0|            20.0|6.666666666666667|            20.0|\n",
      "+-------+------------+----------+--------+--------+--------+---+-------------------+---------------+-----------------+---------------+----------------+-----------------+----------------+----------------+-----------------+----------------+----------------+-----------------+----------------+----------------+-----------------+----------------+\n",
      "only showing top 3 rows\n",
      "\n"
     ]
    }
   ],
   "source": [
    "df_rolling.show(3)"
   ]
  },
  {
   "cell_type": "code",
   "execution_count": null,
   "metadata": {},
   "outputs": [],
   "source": [
    "df_rolling.sql"
   ]
  },
  {
   "cell_type": "code",
   "execution_count": 17,
   "metadata": {},
   "outputs": [
    {
     "name": "stdout",
     "output_type": "stream",
     "text": [
      "== Physical Plan ==\n",
      "*(17) Project [COUNTRY#206, country_ISO3#207, date#208, avg_rain#280, sum_rain#288, max_rain#296, cnt#212, date_with_time#304, last_5_days_sum#314, last_5_days_avg#326, last_5_days_max#339, last_10_days_sum#353, last_10_days_avg#368, last_10_days_max#384, last_20_days_sum#401, last_20_days_avg#419, last_20_days_max#438, last_30_days_sum#458, last_30_days_avg#479, last_30_days_max#501, last_60_days_sum#524, last_60_days_avg#548, last_60_days_max#573]\n",
      "+- Window [max(max_rain#296) windowspecdefinition(country_ISO3#207, _w0#574L ASC NULLS FIRST, specifiedwindowframe(RangeFrame, -5184000, currentrow$())) AS last_60_days_max#573], [country_ISO3#207], [_w0#574L ASC NULLS FIRST]\n",
      "   +- *(16) Sort [country_ISO3#207 ASC NULLS FIRST, _w0#574L ASC NULLS FIRST], false, 0\n",
      "      +- *(16) Project [COUNTRY#206, country_ISO3#207, date#208, avg_rain#280, sum_rain#288, max_rain#296, cnt#212, date_with_time#304, last_5_days_sum#314, last_5_days_avg#326, last_5_days_max#339, last_10_days_sum#353, last_10_days_avg#368, last_10_days_max#384, last_20_days_sum#401, last_20_days_avg#419, last_20_days_max#438, last_30_days_sum#458, last_30_days_avg#479, last_30_days_max#501, last_60_days_sum#524, last_60_days_avg#548, cast(date_with_time#304 as bigint) AS _w0#574L]\n",
      "         +- Window [avg(cast(avg_rain#280 as double)) windowspecdefinition(country_ISO3#207, _w0#549L ASC NULLS FIRST, specifiedwindowframe(RangeFrame, -5184000, currentrow$())) AS last_60_days_avg#548], [country_ISO3#207], [_w0#549L ASC NULLS FIRST]\n",
      "            +- *(15) Sort [country_ISO3#207 ASC NULLS FIRST, _w0#549L ASC NULLS FIRST], false, 0\n",
      "               +- *(15) Project [COUNTRY#206, country_ISO3#207, date#208, avg_rain#280, sum_rain#288, max_rain#296, cnt#212, date_with_time#304, last_5_days_sum#314, last_5_days_avg#326, last_5_days_max#339, last_10_days_sum#353, last_10_days_avg#368, last_10_days_max#384, last_20_days_sum#401, last_20_days_avg#419, last_20_days_max#438, last_30_days_sum#458, last_30_days_avg#479, last_30_days_max#501, last_60_days_sum#524, cast(date_with_time#304 as bigint) AS _w0#549L]\n",
      "                  +- Window [sum(cast(avg_rain#280 as double)) windowspecdefinition(country_ISO3#207, _w0#525L ASC NULLS FIRST, specifiedwindowframe(RangeFrame, -5184000, currentrow$())) AS last_60_days_sum#524], [country_ISO3#207], [_w0#525L ASC NULLS FIRST]\n",
      "                     +- *(14) Sort [country_ISO3#207 ASC NULLS FIRST, _w0#525L ASC NULLS FIRST], false, 0\n",
      "                        +- *(14) Project [COUNTRY#206, country_ISO3#207, date#208, avg_rain#280, sum_rain#288, max_rain#296, cnt#212, date_with_time#304, last_5_days_sum#314, last_5_days_avg#326, last_5_days_max#339, last_10_days_sum#353, last_10_days_avg#368, last_10_days_max#384, last_20_days_sum#401, last_20_days_avg#419, last_20_days_max#438, last_30_days_sum#458, last_30_days_avg#479, last_30_days_max#501, cast(date_with_time#304 as bigint) AS _w0#525L]\n",
      "                           +- Window [max(max_rain#296) windowspecdefinition(country_ISO3#207, _w0#502L ASC NULLS FIRST, specifiedwindowframe(RangeFrame, -2592000, currentrow$())) AS last_30_days_max#501], [country_ISO3#207], [_w0#502L ASC NULLS FIRST]\n",
      "                              +- *(13) Sort [country_ISO3#207 ASC NULLS FIRST, _w0#502L ASC NULLS FIRST], false, 0\n",
      "                                 +- *(13) Project [COUNTRY#206, country_ISO3#207, date#208, avg_rain#280, sum_rain#288, max_rain#296, cnt#212, date_with_time#304, last_5_days_sum#314, last_5_days_avg#326, last_5_days_max#339, last_10_days_sum#353, last_10_days_avg#368, last_10_days_max#384, last_20_days_sum#401, last_20_days_avg#419, last_20_days_max#438, last_30_days_sum#458, last_30_days_avg#479, cast(date_with_time#304 as bigint) AS _w0#502L]\n",
      "                                    +- Window [avg(cast(avg_rain#280 as double)) windowspecdefinition(country_ISO3#207, _w0#480L ASC NULLS FIRST, specifiedwindowframe(RangeFrame, -2592000, currentrow$())) AS last_30_days_avg#479], [country_ISO3#207], [_w0#480L ASC NULLS FIRST]\n",
      "                                       +- *(12) Sort [country_ISO3#207 ASC NULLS FIRST, _w0#480L ASC NULLS FIRST], false, 0\n",
      "                                          +- *(12) Project [COUNTRY#206, country_ISO3#207, date#208, avg_rain#280, sum_rain#288, max_rain#296, cnt#212, date_with_time#304, last_5_days_sum#314, last_5_days_avg#326, last_5_days_max#339, last_10_days_sum#353, last_10_days_avg#368, last_10_days_max#384, last_20_days_sum#401, last_20_days_avg#419, last_20_days_max#438, last_30_days_sum#458, cast(date_with_time#304 as bigint) AS _w0#480L]\n",
      "                                             +- Window [sum(cast(avg_rain#280 as double)) windowspecdefinition(country_ISO3#207, _w0#459L ASC NULLS FIRST, specifiedwindowframe(RangeFrame, -2592000, currentrow$())) AS last_30_days_sum#458], [country_ISO3#207], [_w0#459L ASC NULLS FIRST]\n",
      "                                                +- *(11) Sort [country_ISO3#207 ASC NULLS FIRST, _w0#459L ASC NULLS FIRST], false, 0\n",
      "                                                   +- *(11) Project [COUNTRY#206, country_ISO3#207, date#208, avg_rain#280, sum_rain#288, max_rain#296, cnt#212, date_with_time#304, last_5_days_sum#314, last_5_days_avg#326, last_5_days_max#339, last_10_days_sum#353, last_10_days_avg#368, last_10_days_max#384, last_20_days_sum#401, last_20_days_avg#419, last_20_days_max#438, cast(date_with_time#304 as bigint) AS _w0#459L]\n",
      "                                                      +- Window [max(max_rain#296) windowspecdefinition(country_ISO3#207, _w0#439L ASC NULLS FIRST, specifiedwindowframe(RangeFrame, -1728000, currentrow$())) AS last_20_days_max#438], [country_ISO3#207], [_w0#439L ASC NULLS FIRST]\n",
      "                                                         +- *(10) Sort [country_ISO3#207 ASC NULLS FIRST, _w0#439L ASC NULLS FIRST], false, 0\n",
      "                                                            +- *(10) Project [COUNTRY#206, country_ISO3#207, date#208, avg_rain#280, sum_rain#288, max_rain#296, cnt#212, date_with_time#304, last_5_days_sum#314, last_5_days_avg#326, last_5_days_max#339, last_10_days_sum#353, last_10_days_avg#368, last_10_days_max#384, last_20_days_sum#401, last_20_days_avg#419, cast(date_with_time#304 as bigint) AS _w0#439L]\n",
      "                                                               +- Window [avg(cast(avg_rain#280 as double)) windowspecdefinition(country_ISO3#207, _w0#420L ASC NULLS FIRST, specifiedwindowframe(RangeFrame, -1728000, currentrow$())) AS last_20_days_avg#419], [country_ISO3#207], [_w0#420L ASC NULLS FIRST]\n",
      "                                                                  +- *(9) Sort [country_ISO3#207 ASC NULLS FIRST, _w0#420L ASC NULLS FIRST], false, 0\n",
      "                                                                     +- *(9) Project [COUNTRY#206, country_ISO3#207, date#208, avg_rain#280, sum_rain#288, max_rain#296, cnt#212, date_with_time#304, last_5_days_sum#314, last_5_days_avg#326, last_5_days_max#339, last_10_days_sum#353, last_10_days_avg#368, last_10_days_max#384, last_20_days_sum#401, cast(date_with_time#304 as bigint) AS _w0#420L]\n",
      "                                                                        +- Window [sum(cast(avg_rain#280 as double)) windowspecdefinition(country_ISO3#207, _w0#402L ASC NULLS FIRST, specifiedwindowframe(RangeFrame, -1728000, currentrow$())) AS last_20_days_sum#401], [country_ISO3#207], [_w0#402L ASC NULLS FIRST]\n",
      "                                                                           +- *(8) Sort [country_ISO3#207 ASC NULLS FIRST, _w0#402L ASC NULLS FIRST], false, 0\n",
      "                                                                              +- *(8) Project [COUNTRY#206, country_ISO3#207, date#208, avg_rain#280, sum_rain#288, max_rain#296, cnt#212, date_with_time#304, last_5_days_sum#314, last_5_days_avg#326, last_5_days_max#339, last_10_days_sum#353, last_10_days_avg#368, last_10_days_max#384, cast(date_with_time#304 as bigint) AS _w0#402L]\n",
      "                                                                                 +- Window [max(max_rain#296) windowspecdefinition(country_ISO3#207, _w0#385L ASC NULLS FIRST, specifiedwindowframe(RangeFrame, -864000, currentrow$())) AS last_10_days_max#384], [country_ISO3#207], [_w0#385L ASC NULLS FIRST]\n",
      "                                                                                    +- *(7) Sort [country_ISO3#207 ASC NULLS FIRST, _w0#385L ASC NULLS FIRST], false, 0\n",
      "                                                                                       +- *(7) Project [COUNTRY#206, country_ISO3#207, date#208, avg_rain#280, sum_rain#288, max_rain#296, cnt#212, date_with_time#304, last_5_days_sum#314, last_5_days_avg#326, last_5_days_max#339, last_10_days_sum#353, last_10_days_avg#368, cast(date_with_time#304 as bigint) AS _w0#385L]\n",
      "                                                                                          +- Window [avg(cast(avg_rain#280 as double)) windowspecdefinition(country_ISO3#207, _w0#369L ASC NULLS FIRST, specifiedwindowframe(RangeFrame, -864000, currentrow$())) AS last_10_days_avg#368], [country_ISO3#207], [_w0#369L ASC NULLS FIRST]\n",
      "                                                                                             +- *(6) Sort [country_ISO3#207 ASC NULLS FIRST, _w0#369L ASC NULLS FIRST], false, 0\n",
      "                                                                                                +- *(6) Project [COUNTRY#206, country_ISO3#207, date#208, avg_rain#280, sum_rain#288, max_rain#296, cnt#212, date_with_time#304, last_5_days_sum#314, last_5_days_avg#326, last_5_days_max#339, last_10_days_sum#353, cast(date_with_time#304 as bigint) AS _w0#369L]\n",
      "                                                                                                   +- Window [sum(cast(avg_rain#280 as double)) windowspecdefinition(country_ISO3#207, _w0#354L ASC NULLS FIRST, specifiedwindowframe(RangeFrame, -864000, currentrow$())) AS last_10_days_sum#353], [country_ISO3#207], [_w0#354L ASC NULLS FIRST]\n",
      "                                                                                                      +- *(5) Sort [country_ISO3#207 ASC NULLS FIRST, _w0#354L ASC NULLS FIRST], false, 0\n",
      "                                                                                                         +- *(5) Project [COUNTRY#206, country_ISO3#207, date#208, avg_rain#280, sum_rain#288, max_rain#296, cnt#212, date_with_time#304, last_5_days_sum#314, last_5_days_avg#326, last_5_days_max#339, cast(date_with_time#304 as bigint) AS _w0#354L]\n",
      "                                                                                                            +- Window [max(max_rain#296) windowspecdefinition(country_ISO3#207, _w0#340L ASC NULLS FIRST, specifiedwindowframe(RangeFrame, -432000, currentrow$())) AS last_5_days_max#339], [country_ISO3#207], [_w0#340L ASC NULLS FIRST]\n",
      "                                                                                                               +- *(4) Sort [country_ISO3#207 ASC NULLS FIRST, _w0#340L ASC NULLS FIRST], false, 0\n",
      "                                                                                                                  +- *(4) Project [COUNTRY#206, country_ISO3#207, date#208, avg_rain#280, sum_rain#288, max_rain#296, cnt#212, date_with_time#304, last_5_days_sum#314, last_5_days_avg#326, cast(date_with_time#304 as bigint) AS _w0#340L]\n",
      "                                                                                                                     +- Window [avg(cast(avg_rain#280 as double)) windowspecdefinition(country_ISO3#207, _w0#327L ASC NULLS FIRST, specifiedwindowframe(RangeFrame, -432000, currentrow$())) AS last_5_days_avg#326], [country_ISO3#207], [_w0#327L ASC NULLS FIRST]\n",
      "                                                                                                                        +- *(3) Sort [country_ISO3#207 ASC NULLS FIRST, _w0#327L ASC NULLS FIRST], false, 0\n",
      "                                                                                                                           +- *(3) Project [COUNTRY#206, country_ISO3#207, date#208, avg_rain#280, sum_rain#288, max_rain#296, cnt#212, date_with_time#304, last_5_days_sum#314, cast(date_with_time#304 as bigint) AS _w0#327L]\n",
      "                                                                                                                              +- Window [sum(cast(avg_rain#280 as double)) windowspecdefinition(country_ISO3#207, _w0#315L ASC NULLS FIRST, specifiedwindowframe(RangeFrame, -432000, currentrow$())) AS last_5_days_sum#314], [country_ISO3#207], [_w0#315L ASC NULLS FIRST]\n",
      "                                                                                                                                 +- *(2) Sort [country_ISO3#207 ASC NULLS FIRST, _w0#315L ASC NULLS FIRST], false, 0\n",
      "                                                                                                                                    +- Exchange hashpartitioning(country_ISO3#207, 200), true, [id=#501]\n",
      "                                                                                                                                       +- *(1) Project [TZ#192 AS COUNTRY#206, TZA#193 AS country_ISO3#207, 1980-05-20#194 AS date#208, cast(24.9#195 as float) AS avg_rain#280, cast(249.0#196 as float) AS sum_rain#288, cast(138#197 as float) AS max_rain#296, 10#198 AS cnt#212, gettimestamp(1980-05-20#194, yyyy-MM-dd, Some(Etc/UTC)) AS date_with_time#304, cast(gettimestamp(1980-05-20#194, yyyy-MM-dd, Some(Etc/UTC)) as bigint) AS _w0#315L]\n",
      "                                                                                                                                          +- FileScan csv [TZ#192,TZA#193,1980-05-20#194,24.9#195,249.0#196,138#197,10#198] Batched: false, DataFilters: [], Format: CSV, Location: InMemoryFileIndex[hdfs://localhost/stagiaire/430-Benoit/noaa/daily_rain_by_country_ISO3], PartitionFilters: [], PushedFilters: [], ReadSchema: struct<TZ:string,TZA:string,1980-05-20:string,24.9:string,249.0:string,138:string,10:string>\n",
      "\n",
      "\n"
     ]
    }
   ],
   "source": [
    "df_rolling.explain()"
   ]
  },
  {
   "cell_type": "code",
   "execution_count": null,
   "metadata": {},
   "outputs": [],
   "source": [
    "sqlDF.write.csv(output)\n",
    "print(sqlDF.columns)\n",
    "sc.stop()"
   ]
  }
 ],
 "metadata": {
  "kernelspec": {
   "display_name": "Python 3",
   "language": "python",
   "name": "python3"
  },
  "language_info": {
   "codemirror_mode": {
    "name": "ipython",
    "version": 3
   },
   "file_extension": ".py",
   "mimetype": "text/x-python",
   "name": "python",
   "nbconvert_exporter": "python",
   "pygments_lexer": "ipython3",
   "version": "3.8.6"
  }
 },
 "nbformat": 4,
 "nbformat_minor": 4
}
