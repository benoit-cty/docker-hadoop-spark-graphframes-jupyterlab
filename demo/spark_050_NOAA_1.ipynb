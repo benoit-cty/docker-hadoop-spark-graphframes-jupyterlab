{
 "cells": [
  {
   "cell_type": "markdown",
   "metadata": {},
   "source": [
    "# NOAA : Extraction de la pluviométrie\n",
    "\n",
    "Dataset :\n",
    "- Dossier /demo/noaa/noaa-raw-data\n",
    "- Format du fichier : \"STATION\",\"DATE\",\"LATITUDE\",\"LONGITUDE\",\"ELEVATION\",\"NAME\",\"PRCP\",\"PRCP_ATTRIBUTES\"\n",
    "- Une ligne par station météo\n",
    "\n",
    "Exercice :\n",
    "- Récupérer le code pays sur 2 lettres et la placer dans une nouvelle colonne \"COUNTRY\"\n",
    "- Supprimer les lignes où PRCP est null\n",
    "- Regrouper les relevés des stations par pays\n",
    "- Calculer la moyenne de pluie (\"PRCP\"), la somme, le maximum, l'écart type, le nombre de stations météo\n",
    "- Trier par date et par pays\n",
    "- Sauver dans '/stagiaire/votre_dossier/noaa/daily_rain_by_country'"
   ]
  },
  {
   "cell_type": "code",
   "execution_count": 2,
   "metadata": {},
   "outputs": [],
   "source": [
    "#!hdfs dfs -ls /demo/noaa/noaa-raw-data"
   ]
  },
  {
   "cell_type": "code",
   "execution_count": 2,
   "metadata": {},
   "outputs": [],
   "source": [
    "from pyspark import SparkContext\n",
    "from pyspark import SparkConf\n",
    "from pyspark.sql import SparkSession\n",
    "import pyspark.sql.functions as F\n",
    "import shutil"
   ]
  },
  {
   "cell_type": "code",
   "execution_count": 4,
   "metadata": {},
   "outputs": [
    {
     "name": "stdout",
     "output_type": "stream",
     "text": [
      "done\n"
     ]
    }
   ],
   "source": [
    "DATASET_FOLDER = '/demo/noaa/noaa-raw-data'\n",
    "SPARK_MASTER = 'spark://localhost:7077'\n",
    "APP_NAME = 'Group daily rain by Country - bco'\n",
    "\n",
    "noaa_csv_path = DATASET_FOLDER \n",
    "output = '/stagiaire/430-Benoit/noaa/daily_rain_by_country_2'\n",
    "\n",
    "# Create Spark session\n",
    "spark = SparkSession.builder.master(SPARK_MASTER).appName(APP_NAME).getOrCreate()\n",
    "# Convert list to data frame\n",
    "df = spark.read.format('csv').option('header',True).option('multiLine', True).load(noaa_csv_path)\n",
    "print(\"done\")"
   ]
  },
  {
   "cell_type": "code",
   "execution_count": 5,
   "metadata": {},
   "outputs": [],
   "source": [
    "sc = spark.sparkContext"
   ]
  },
  {
   "cell_type": "code",
   "execution_count": 6,
   "metadata": {},
   "outputs": [],
   "source": [
    "df.createOrReplaceTempView('tbl')"
   ]
  },
  {
   "cell_type": "code",
   "execution_count": 7,
   "metadata": {},
   "outputs": [],
   "source": [
    "df2 = spark.sql(\"\"\"\n",
    "    select right(name, 2) as COUNTRY, date, count(prcp) cnt, avg(prcp) avg_prcp, sum(prcp) sum_prcp, max(prcp) max_prcp, stddev(prcp) stddev_prcp\n",
    "    from tbl\n",
    "    where PRCP is not null\n",
    "    group by country, date\n",
    "    order by date desc, country\n",
    "\"\"\")"
   ]
  },
  {
   "cell_type": "code",
   "execution_count": 8,
   "metadata": {},
   "outputs": [
    {
     "name": "stdout",
     "output_type": "stream",
     "text": [
      "+-------+----------+---+------------------+--------+--------+------------------+\n",
      "|COUNTRY|      date|cnt|          avg_prcp|sum_prcp|max_prcp|       stddev_prcp|\n",
      "+-------+----------+---+------------------+--------+--------+------------------+\n",
      "|     BE|2020-10-30|  1|               0.0|     0.0|       0|               NaN|\n",
      "|     FR|2020-10-30| 71| 4.028169014084507|   286.0|      30| 6.661127813100026|\n",
      "|     RI|2020-10-30|  3|39.666666666666664|   119.0|      76|31.659648345067467|\n",
      "|     TZ|2020-10-30|  2|             127.0|   254.0|     254|179.60512242138307|\n",
      "|     BE|2020-10-29|  1|              28.0|    28.0|      28|               NaN|\n",
      "|     FR|2020-10-29| 71|19.267605633802816|  1368.0|     122|27.431971829797888|\n",
      "|     RI|2020-10-29|  3|               0.0|     0.0|       0|               0.0|\n",
      "|     TZ|2020-10-29|  2|              23.0|    46.0|      41| 25.45584412271571|\n",
      "|     BE|2020-10-28|  1|              46.0|    46.0|      46|               NaN|\n",
      "|     FR|2020-10-28| 71|31.971830985915492|  2270.0|     160|37.307590890168306|\n",
      "|     RI|2020-10-28|  3|               0.0|     0.0|       0|               0.0|\n",
      "|     TZ|2020-10-28|  4|               0.0|     0.0|       0|               0.0|\n",
      "|     BE|2020-10-27|  1|              25.0|    25.0|      25|               NaN|\n",
      "|     FR|2020-10-27| 71| 39.40845070422535|  2798.0|     198| 44.97414414806697|\n",
      "|     RI|2020-10-27|  3|               0.0|     0.0|       0|               0.0|\n",
      "|     TZ|2020-10-27|  4|             71.25|   285.0|     201| 91.25194061863378|\n",
      "|     BE|2020-10-26|  1|               0.0|     0.0|       0|               NaN|\n",
      "|     FR|2020-10-26| 69| 94.92753623188406|  6550.0|     503|104.98113539788382|\n",
      "|     RI|2020-10-26|  3|              22.0|    66.0|      51|26.210684844162312|\n",
      "|     TZ|2020-10-26|  1|               0.0|     0.0|       0|               NaN|\n",
      "+-------+----------+---+------------------+--------+--------+------------------+\n",
      "only showing top 20 rows\n",
      "\n"
     ]
    }
   ],
   "source": [
    "df2.show()"
   ]
  },
  {
   "cell_type": "code",
   "execution_count": 9,
   "metadata": {},
   "outputs": [],
   "source": [
    "df2.write.csv(output, header=True)"
   ]
  },
  {
   "cell_type": "code",
   "execution_count": 10,
   "metadata": {},
   "outputs": [],
   "source": [
    "sc.stop()"
   ]
  },
  {
   "cell_type": "code",
   "execution_count": null,
   "metadata": {},
   "outputs": [],
   "source": []
  }
 ],
 "metadata": {
  "kernelspec": {
   "display_name": "Python 3",
   "language": "python",
   "name": "python3"
  },
  "language_info": {
   "codemirror_mode": {
    "name": "ipython",
    "version": 3
   },
   "file_extension": ".py",
   "mimetype": "text/x-python",
   "name": "python",
   "nbconvert_exporter": "python",
   "pygments_lexer": "ipython3",
   "version": "3.8.6"
  }
 },
 "nbformat": 4,
 "nbformat_minor": 4
}
