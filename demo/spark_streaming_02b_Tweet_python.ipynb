{
 "cells": [
  {
   "cell_type": "markdown",
   "metadata": {},
   "source": [
    "# pySpark : Streaming Tweet - Python Client"
   ]
  },
  {
   "cell_type": "code",
   "execution_count": 1,
   "metadata": {},
   "outputs": [
    {
     "name": "stdout",
     "output_type": "stream",
     "text": [
      "b'@oneplus A'\n"
     ]
    }
   ],
   "source": [
    "import socket\n",
    "TCP_IP = \"localhost\"\n",
    "TCP_PORT = 9009\n",
    "conn = None\n",
    "s = socket.socket(socket.AF_INET, socket.SOCK_STREAM)\n",
    "s.connect((TCP_IP, TCP_PORT))\n",
    "chunks = []\n",
    "bytes_recd = 0\n",
    "MSGLEN = 10\n",
    "while bytes_recd < MSGLEN:\n",
    "    chunk = s.recv(min(MSGLEN - bytes_recd, 2048))\n",
    "    if chunk == b'':\n",
    "        raise RuntimeError(\"socket connection broken\")\n",
    "    print(chunk)\n",
    "    bytes_recd = bytes_recd + len(chunk)\n",
    "s.close()"
   ]
  },
  {
   "cell_type": "code",
   "execution_count": null,
   "metadata": {},
   "outputs": [],
   "source": []
  }
 ],
 "metadata": {
  "kernelspec": {
   "display_name": "Python 3",
   "language": "python",
   "name": "python3"
  },
  "language_info": {
   "codemirror_mode": {
    "name": "ipython",
    "version": 3
   },
   "file_extension": ".py",
   "mimetype": "text/x-python",
   "name": "python",
   "nbconvert_exporter": "python",
   "pygments_lexer": "ipython3",
   "version": "3.8.6"
  }
 },
 "nbformat": 4,
 "nbformat_minor": 4
}
