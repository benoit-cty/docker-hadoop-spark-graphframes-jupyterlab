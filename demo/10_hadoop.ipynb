{
 "cells": [
  {
   "cell_type": "markdown",
   "metadata": {},
   "source": [
    "# Hadoop"
   ]
  },
  {
   "cell_type": "code",
   "execution_count": 6,
   "metadata": {},
   "outputs": [
    {
     "name": "stdout",
     "output_type": "stream",
     "text": [
      "/root/ipynb/420-Benoit\n",
      "'01 - Certifications M2i - Infos pour les formateurs.pdf'\n"
     ]
    }
   ],
   "source": [
    "!pwd\n",
    "!ls *.pdf"
   ]
  },
  {
   "cell_type": "markdown",
   "metadata": {},
   "source": [
    "https://hadoop.apache.org/docs/current/hadoop-project-dist/hadoop-hdfs/HDFSCommands.html"
   ]
  },
  {
   "cell_type": "code",
   "execution_count": 1,
   "metadata": {},
   "outputs": [
    {
     "name": "stdout",
     "output_type": "stream",
     "text": [
      "localhost\n"
     ]
    }
   ],
   "source": [
    "!hdfs getconf -namenodes"
   ]
  },
  {
   "cell_type": "code",
   "execution_count": 2,
   "metadata": {},
   "outputs": [
    {
     "name": "stdout",
     "output_type": "stream",
     "text": [
      "0.0.0.0\n"
     ]
    }
   ],
   "source": [
    "!hdfs getconf -secondaryNameNodes"
   ]
  },
  {
   "cell_type": "code",
   "execution_count": 1,
   "metadata": {},
   "outputs": [
    {
     "name": "stdout",
     "output_type": "stream",
     "text": [
      "Found 1 items\n",
      "drwxr-xr-x   - root supergroup          0 2020-11-25 05:33 /demo\n"
     ]
    }
   ],
   "source": [
    "!hdfs dfs -ls /"
   ]
  },
  {
   "cell_type": "code",
   "execution_count": 1,
   "metadata": {},
   "outputs": [],
   "source": [
    "!hdfs dfs -mkdir -p /demo\n",
    "!hdfs dfs -copyFromLocal -f /root/ipynb/data/* /demo/\n",
    "#!hdfs dfs -copyFromLocal -f relationship.csv /demo/graphframes/relationship.csv"
   ]
  },
  {
   "cell_type": "code",
   "execution_count": 3,
   "metadata": {},
   "outputs": [
    {
     "name": "stdout",
     "output_type": "stream",
     "text": [
      "Found 8 items\n",
      "drwxr-xr-x   - root supergroup          0 2020-11-24 14:21 /demo/house-prize\n",
      "drwxr-xr-x   - root supergroup          0 2020-11-24 14:21 /demo/lda\n",
      "drwxr-xr-x   - root supergroup          0 2020-11-24 14:22 /demo/noaa\n",
      "-rw-r--r--   1 root supergroup        101 2020-11-24 14:22 /demo/person.csv\n",
      "drwxr-xr-x   - root supergroup          0 2020-11-24 14:22 /demo/recommendation\n",
      "-rw-r--r--   1 root supergroup        212 2020-11-24 14:22 /demo/relationship.csv\n",
      "drwxr-xr-x   - root supergroup          0 2020-11-24 14:22 /demo/titanic\n",
      "drwxr-xr-x   - root supergroup          0 2020-11-24 14:22 /demo/txt\n"
     ]
    }
   ],
   "source": [
    "!hdfs dfs -ls /demo"
   ]
  },
  {
   "cell_type": "code",
   "execution_count": null,
   "metadata": {},
   "outputs": [],
   "source": [
    "!hdfs dfs -ls /demo/txt"
   ]
  },
  {
   "cell_type": "code",
   "execution_count": null,
   "metadata": {},
   "outputs": [],
   "source": [
    "!hdfs dfs -ls /demo/noaa/noaa-raw-data"
   ]
  },
  {
   "cell_type": "code",
   "execution_count": 2,
   "metadata": {},
   "outputs": [],
   "source": [
    "!mkdir -p ../data/noaa/daily_rain_by_country/\n",
    "!hdfs dfs -copyToLocal /stagiaire/430-Benoit/noaa/daily_rain_by_country_2 ../data/noaa/daily_rain_by_country/"
   ]
  },
  {
   "cell_type": "code",
   "execution_count": null,
   "metadata": {},
   "outputs": [],
   "source": []
  }
 ],
 "metadata": {
  "kernelspec": {
   "display_name": "Python 3",
   "language": "python",
   "name": "python3"
  },
  "language_info": {
   "codemirror_mode": {
    "name": "ipython",
    "version": 3
   },
   "file_extension": ".py",
   "mimetype": "text/x-python",
   "name": "python",
   "nbconvert_exporter": "python",
   "pygments_lexer": "ipython3",
   "version": "3.8.6"
  }
 },
 "nbformat": 4,
 "nbformat_minor": 4
}
