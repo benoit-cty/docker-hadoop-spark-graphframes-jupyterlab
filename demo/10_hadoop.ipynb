{
 "cells": [
  {
   "cell_type": "markdown",
   "metadata": {},
   "source": [
    "# Hadoop"
   ]
  },
  {
   "cell_type": "code",
   "execution_count": 6,
   "metadata": {},
   "outputs": [
    {
     "name": "stdout",
     "output_type": "stream",
     "text": [
      "/root/ipynb/420-Benoit\n",
      "'01 - Certifications M2i - Infos pour les formateurs.pdf'\n"
     ]
    }
   ],
   "source": [
    "!pwd\n",
    "!ls *.pdf"
   ]
  },
  {
   "cell_type": "markdown",
   "metadata": {},
   "source": [
    "https://hadoop.apache.org/docs/current/hadoop-project-dist/hadoop-hdfs/HDFSCommands.html"
   ]
  },
  {
   "cell_type": "code",
   "execution_count": null,
   "metadata": {},
   "outputs": [],
   "source": [
    "!hdfs getconf -namenodes"
   ]
  },
  {
   "cell_type": "code",
   "execution_count": null,
   "metadata": {},
   "outputs": [],
   "source": [
    "!hdfs getconf -secondaryNameNodes"
   ]
  },
  {
   "cell_type": "code",
   "execution_count": 1,
   "metadata": {},
   "outputs": [
    {
     "name": "stdout",
     "output_type": "stream",
     "text": [
      "Found 1 items\n",
      "drwxr-xr-x   - root supergroup          0 2020-11-25 05:33 /demo\n"
     ]
    }
   ],
   "source": [
    "!hdfs dfs -ls /"
   ]
  },
  {
   "cell_type": "code",
   "execution_count": 1,
   "metadata": {},
   "outputs": [],
   "source": [
    "!hdfs dfs -mkdir -p /demo\n",
    "!hdfs dfs -copyFromLocal -f /root/ipynb/data/* /demo/\n",
    "#!hdfs dfs -copyFromLocal -f relationship.csv /demo/graphframes/relationship.csv"
   ]
  },
  {
   "cell_type": "code",
   "execution_count": 3,
   "metadata": {},
   "outputs": [
    {
     "name": "stdout",
     "output_type": "stream",
     "text": [
      "Found 8 items\n",
      "drwxr-xr-x   - root supergroup          0 2020-11-24 14:21 /demo/house-prize\n",
      "drwxr-xr-x   - root supergroup          0 2020-11-24 14:21 /demo/lda\n",
      "drwxr-xr-x   - root supergroup          0 2020-11-24 14:22 /demo/noaa\n",
      "-rw-r--r--   1 root supergroup        101 2020-11-24 14:22 /demo/person.csv\n",
      "drwxr-xr-x   - root supergroup          0 2020-11-24 14:22 /demo/recommendation\n",
      "-rw-r--r--   1 root supergroup        212 2020-11-24 14:22 /demo/relationship.csv\n",
      "drwxr-xr-x   - root supergroup          0 2020-11-24 14:22 /demo/titanic\n",
      "drwxr-xr-x   - root supergroup          0 2020-11-24 14:22 /demo/txt\n"
     ]
    }
   ],
   "source": [
    "!hdfs dfs -ls /demo"
   ]
  },
  {
   "cell_type": "code",
   "execution_count": null,
   "metadata": {},
   "outputs": [],
   "source": [
    "!hdfs dfs -ls /demo/txt"
   ]
  },
  {
   "cell_type": "code",
   "execution_count": 1,
   "metadata": {},
   "outputs": [
    {
     "name": "stdout",
     "output_type": "stream",
     "text": [
      "Found 7 items\n",
      "drwxr-xr-x   - root supergroup          0 2020-11-24 14:21 /stagiaire/431-BIN_YU\n",
      "drwxr-xr-x   - root supergroup          0 2020-11-24 14:21 /stagiaire/432-CRISTIAN_VLAD\n",
      "drwxr-xr-x   - root supergroup          0 2020-11-24 14:21 /stagiaire/434-Alban_PLANCON\n",
      "drwxr-xr-x   - root supergroup          0 2020-11-24 14:21 /stagiaire/435-Btisem_Mansouri\n",
      "drwxr-xr-x   - root supergroup          0 2020-11-24 14:21 /stagiaire/436-LAURENT_GUEMAPPE\n",
      "drwxr-xr-x   - root supergroup          0 2020-11-24 14:21 /stagiaire/437-Tom_DENAT\n",
      "drwxr-xr-x   - root supergroup          0 2020-11-24 14:21 /stagiaire/438-NADJET_GAHGAH\n"
     ]
    }
   ],
   "source": [
    "!hdfs dfs -mkdir -p /stagiaire/431-BIN_YU  /stagiaire/432-CRISTIAN_VLAD /stagiaire/434-Alban_PLANCON\n",
    "!hdfs dfs -mkdir -p  /stagiaire/435-Btisem_Mansouri /stagiaire/436-LAURENT_GUEMAPPE /stagiaire/437-Tom_DENAT\n",
    "!hdfs dfs -mkdir -p  /stagiaire/438-NADJET_GAHGAH\n",
    "!hdfs dfs -ls /stagiaire"
   ]
  },
  {
   "cell_type": "code",
   "execution_count": null,
   "metadata": {},
   "outputs": [],
   "source": [
    "!hdfs dfs -ls /demo/noaa/noaa-raw-data"
   ]
  },
  {
   "cell_type": "code",
   "execution_count": 4,
   "metadata": {},
   "outputs": [
    {
     "name": "stdout",
     "output_type": "stream",
     "text": [
      "COUNTRY,date,cnt,avg_prcp,sum_prcp,max_prcp,stddev_prcp\n",
      "BE,2020-10-30,1,0.0,0.0,0,NaN\n",
      "FR,2020-10-30,71,4.028169014084507,286.0,30,6.661127813100026\n",
      "RI,2020-10-30,3,39.666666666666664,119.0,76,31.659648345067467\n",
      "TZ,2020-10-30,2,127.0,254.0,254,179.60512242138307\n",
      "BE,2020-10-29,1,28.0,28.0,28,NaN\n",
      "FR,2020-10-29,71,19.267605633802816,1368.0,122,27.431971829797888\n",
      "RI,2020-10-29,3,0.0,0.0,0,0.0\n",
      "TZ,2020-10-29,2,23.0,46.0,41,25.45584412271571\n",
      "BE,2020-10-28,1,46.0,46.0,46,NaN\n",
      "cat: Unable to write to output stream.\n"
     ]
    }
   ],
   "source": [
    "!hdfs dfs -cat /stagiaire/432-CRISTIAN_VLAD/noaa/daily_rain_by_country_2/part-00000-9f31be3f-b21f-4cc4-9c4c-587f90859380-c000.csv | head"
   ]
  },
  {
   "cell_type": "code",
   "execution_count": 2,
   "metadata": {},
   "outputs": [],
   "source": [
    "!mkdir -p ../data/noaa/daily_rain_by_country/\n",
    "!hdfs dfs -copyToLocal /stagiaire/430-Benoit/noaa/daily_rain_by_country_2 ../data/noaa/daily_rain_by_country/"
   ]
  },
  {
   "cell_type": "code",
   "execution_count": null,
   "metadata": {},
   "outputs": [],
   "source": []
  }
 ],
 "metadata": {
  "kernelspec": {
   "display_name": "Python 3",
   "language": "python",
   "name": "python3"
  },
  "language_info": {
   "codemirror_mode": {
    "name": "ipython",
    "version": 3
   },
   "file_extension": ".py",
   "mimetype": "text/x-python",
   "name": "python",
   "nbconvert_exporter": "python",
   "pygments_lexer": "ipython3",
   "version": "3.8.6"
  }
 },
 "nbformat": 4,
 "nbformat_minor": 4
}
