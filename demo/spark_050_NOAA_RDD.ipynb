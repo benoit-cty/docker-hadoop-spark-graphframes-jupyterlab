{
 "cells": [
  {
   "cell_type": "markdown",
   "metadata": {},
   "source": [
    "# NOAA : Extraction de la pluviométrie\n",
    "\n",
    "Dataset :\n",
    "- Dossier /demo/noaa/noaa-raw-data\n",
    "- Format du fichier : \"STATION\",\"DATE\",\"LATITUDE\",\"LONGITUDE\",\"ELEVATION\",\"NAME\",\"PRCP\",\"PRCP_ATTRIBUTES\"\n",
    "- Une ligne par relevé météo par jour\n",
    "\n",
    "Exercice :\n",
    "- Récupérer le code pays sur 2 lettres et la placer dans une nouvelle colonne \"COUNTRY\"\n",
    "- Supprimer les lignes où PRCP est null\n",
    "- Regrouper les relevés des stations par pays\n",
    "- Calculer la moyenne de pluie (\"PRCP\"), la somme, le maximum, l'écart type, le nombre de stations météo\n",
    "- Trier par date et par pays\n",
    "- Sauver dans '/stagiaire/votre_dossier/noaa/daily_rain_by_country'"
   ]
  },
  {
   "cell_type": "code",
   "execution_count": 67,
   "metadata": {},
   "outputs": [
    {
     "name": "stdout",
     "output_type": "stream",
     "text": [
      "Overwriting spark_noaa.py\n"
     ]
    }
   ],
   "source": [
    "%%writefile spark_noaa.py\n",
    "from pyspark import SparkContext\n",
    "from pyspark import SparkConf\n",
    "from pyspark.sql import SparkSession\n",
    "import pyspark.sql.functions as F\n",
    "spark = SparkSession \\\n",
    "    .builder \\\n",
    "    .appName('Spark RDD') \\\n",
    "    .getOrCreate()\n",
    "sc = spark.sparkContext\n",
    "lines = spark.read.text('/demo/noaa/noaa-raw-data/FRW00034067.csv') \n",
    "def attributes(ligne):\n",
    "    station_name = ligne[0].replace('\"', '')\n",
    "    return [station_name] + ligne[7].split(',')\n",
    "mon_rdd=lines.rdd.map(lambda r: r[0].split('\",\"')).map(attributes).filter(lambda x: x[1]!='PRCP_ATTRIBUTES')\n",
    "mon_rdd.take(2)\n",
    "sc.stop()"
   ]
  },
  {
   "cell_type": "code",
   "execution_count": null,
   "metadata": {},
   "outputs": [],
   "source": []
  },
  {
   "cell_type": "code",
   "execution_count": 64,
   "metadata": {},
   "outputs": [],
   "source": [
    "#!hdfs dfs -ls /demo/noaa/noaa-raw-data"
   ]
  },
  {
   "cell_type": "code",
   "execution_count": 1,
   "metadata": {},
   "outputs": [],
   "source": [
    "from pyspark import SparkContext\n",
    "from pyspark import SparkConf\n",
    "from pyspark.sql import SparkSession\n",
    "import pyspark.sql.functions as F"
   ]
  },
  {
   "cell_type": "code",
   "execution_count": 3,
   "metadata": {},
   "outputs": [],
   "source": [
    "DATASET_FOLDER = '/demo/noaa/noaa-raw-data'\n",
    "SPARK_MASTER = 'spark://localhost:7077'\n",
    "APP_NAME = 'Group daily rain by Country - 430'\n",
    "\n",
    "noaa_csv_path = DATASET_FOLDER \n",
    "output = '/stagiaire/votre_dossier/noaa/daily_rain_by_country'\n",
    "\n",
    "# Create Spark session\n",
    "spark = SparkSession.builder.master(SPARK_MASTER).appName(APP_NAME).getOrCreate()"
   ]
  },
  {
   "cell_type": "markdown",
   "metadata": {},
   "source": [
    "\n",
    "    Récupérer le code pays sur 2 lettres et la placer dans une nouvelle colonne \"COUNTRY\"\n",
    "    Supprimer les lignes où PRCP est null\n",
    "    Regrouper les relevés des stations par pays\n",
    "    Calculer la moyenne de pluie (\"PRCP\"), la somme, le maximum, l'écart type, le nombre de stations météo\n",
    "    Trier par date et par pays\n",
    "    Sauver dans '/stagiaire/votre_dossier/noaa/daily_rain_by_country'\n"
   ]
  },
  {
   "cell_type": "code",
   "execution_count": 4,
   "metadata": {},
   "outputs": [],
   "source": [
    "# Utiliser RDD pour lire le fichier et extraire le code pays, la date et la température"
   ]
  },
  {
   "cell_type": "code",
   "execution_count": null,
   "metadata": {},
   "outputs": [],
   "source": []
  },
  {
   "cell_type": "code",
   "execution_count": 62,
   "metadata": {},
   "outputs": [],
   "source": [
    "#lines = spark.read.text('/demo/noaa/noaa-raw-data/FRW00034067.csv') \n",
    "#lines = spark.read.text('/demo/noaa/noaa-raw-data/FRE00104040.csv') "
   ]
  },
  {
   "cell_type": "code",
   "execution_count": 63,
   "metadata": {},
   "outputs": [
    {
     "data": {
      "text/plain": [
       "[Row(value='\"STATION\",\"DATE\",\"LATITUDE\",\"LONGITUDE\",\"ELEVATION\",\"NAME\",\"PRCP\",\"PRCP_ATTRIBUTES\",\"SNOW\",\"SNOW_ATTRIBUTES\",\"SNWD\",\"SNWD_ATTRIBUTES\",\"TMAX\",\"TMAX_ATTRIBUTES\",\"TMIN\",\"TMIN_ATTRIBUTES\",\"WSFG\",\"WSFG_ATTRIBUTES\",\"WT01\",\"WT01_ATTRIBUTES\",\"WT03\",\"WT03_ATTRIBUTES\",\"WT05\",\"WT05_ATTRIBUTES\",\"WT08\",\"WT08_ATTRIBUTES\",\"WT16\",\"WT16_ATTRIBUTES\",\"WT18\",\"WT18_ATTRIBUTES\"'),\n",
       " Row(value='\"FRW00034067\",\"1958-09-01\",\"48.43333\",\"4.48333\",\"120.1\",\"BRIENNE, FR\",\"   25\",\",,X\",\"    0\",\",,X\",\"    0\",\",,X\",\"  200\",\",,X\",\"  183\",\",,X\",,,\"    1\",\",,X\",\"    1\",\",,X\",,,,,\"    1\",\",,X\",,'),\n",
       " Row(value='\"FRW00034067\",\"1958-09-02\",\"48.43333\",\"4.48333\",\"120.1\",\"BRIENNE, FR\",\"    0\",\",,X\",\"    0\",\",,X\",\"    0\",\",,X\",\"  244\",\",,X\",\"  172\",\",,X\",,,\"    1\",\",,X\",,,,,\"    1\",\",,X\",,,,')]"
      ]
     },
     "execution_count": 63,
     "metadata": {},
     "output_type": "execute_result"
    }
   ],
   "source": [
    "lines.rdd.map(lambda r: r).take(3)"
   ]
  },
  {
   "cell_type": "code",
   "execution_count": 6,
   "metadata": {},
   "outputs": [
    {
     "data": {
      "text/plain": [
       "[Row(value='\"STATION\",\"DATE\",\"LATITUDE\",\"LONGITUDE\",\"ELEVATION\",\"NAME\",\"PRCP\",\"PRCP_ATTRIBUTES\",\"SNOW\",\"SNOW_ATTRIBUTES\",\"SNWD\",\"SNWD_ATTRIBUTES\",\"TMAX\",\"TMAX_ATTRIBUTES\",\"TMIN\",\"TMIN_ATTRIBUTES\",\"WSFG\",\"WSFG_ATTRIBUTES\",\"WT01\",\"WT01_ATTRIBUTES\",\"WT03\",\"WT03_ATTRIBUTES\",\"WT05\",\"WT05_ATTRIBUTES\",\"WT08\",\"WT08_ATTRIBUTES\",\"WT16\",\"WT16_ATTRIBUTES\",\"WT18\",\"WT18_ATTRIBUTES\"'),\n",
       " Row(value='\"FRW00034067\",\"1958-09-01\",\"48.43333\",\"4.48333\",\"120.1\",\"BRIENNE, FR\",\"   25\",\",,X\",\"    0\",\",,X\",\"    0\",\",,X\",\"  200\",\",,X\",\"  183\",\",,X\",,,\"    1\",\",,X\",\"    1\",\",,X\",,,,,\"    1\",\",,X\",,'),\n",
       " Row(value='\"FRW00034067\",\"1958-09-02\",\"48.43333\",\"4.48333\",\"120.1\",\"BRIENNE, FR\",\"    0\",\",,X\",\"    0\",\",,X\",\"    0\",\",,X\",\"  244\",\",,X\",\"  172\",\",,X\",,,\"    1\",\",,X\",,,,,\"    1\",\",,X\",,,,')]"
      ]
     },
     "execution_count": 6,
     "metadata": {},
     "output_type": "execute_result"
    }
   ],
   "source": [
    "lines.rdd.map(lambda r: r).take(3)"
   ]
  },
  {
   "cell_type": "code",
   "execution_count": 22,
   "metadata": {},
   "outputs": [
    {
     "data": {
      "text/plain": [
       "['\"STATION\",\"DATE\",\"LATITUDE\",\"LONGITUDE\",\"ELEVATION\",\"NAME\",\"PRCP\",\"PRCP_ATTRIBUTES\",\"SNOW\",\"SNOW_ATTRIBUTES\",\"SNWD\",\"SNWD_ATTRIBUTES\",\"TMAX\",\"TMAX_ATTRIBUTES\",\"TMIN\",\"TMIN_ATTRIBUTES\",\"WSFG\",\"WSFG_ATTRIBUTES\",\"WT01\",\"WT01_ATTRIBUTES\",\"WT03\",\"WT03_ATTRIBUTES\",\"WT05\",\"WT05_ATTRIBUTES\",\"WT08\",\"WT08_ATTRIBUTES\",\"WT16\",\"WT16_ATTRIBUTES\",\"WT18\",\"WT18_ATTRIBUTES\"',\n",
       " '\"FRW00034067\",\"1958-09-01\",\"48.43333\",\"4.48333\",\"120.1\",\"BRIENNE, FR\",\"   25\",\",,X\",\"    0\",\",,X\",\"    0\",\",,X\",\"  200\",\",,X\",\"  183\",\",,X\",,,\"    1\",\",,X\",\"    1\",\",,X\",,,,,\"    1\",\",,X\",,',\n",
       " '\"FRW00034067\",\"1958-09-02\",\"48.43333\",\"4.48333\",\"120.1\",\"BRIENNE, FR\",\"    0\",\",,X\",\"    0\",\",,X\",\"    0\",\",,X\",\"  244\",\",,X\",\"  172\",\",,X\",,,\"    1\",\",,X\",,,,,\"    1\",\",,X\",,,,']"
      ]
     },
     "execution_count": 22,
     "metadata": {},
     "output_type": "execute_result"
    }
   ],
   "source": [
    "lines.rdd.map(lambda r: r[0]).take(3)"
   ]
  },
  {
   "cell_type": "code",
   "execution_count": 23,
   "metadata": {},
   "outputs": [
    {
     "data": {
      "text/plain": [
       "['\"STAT', '\"FRW0', '\"FRW0']"
      ]
     },
     "execution_count": 23,
     "metadata": {},
     "output_type": "execute_result"
    }
   ],
   "source": [
    "lines.rdd.map(lambda r: r[0][:5] ).take(3)"
   ]
  },
  {
   "cell_type": "code",
   "execution_count": 27,
   "metadata": {},
   "outputs": [
    {
     "data": {
      "text/plain": [
       "[('\"STAT', 'ION\",'), ('\"FRW0', '00340'), ('\"FRW0', '00340')]"
      ]
     },
     "execution_count": 27,
     "metadata": {},
     "output_type": "execute_result"
    }
   ],
   "source": [
    "lines.rdd.map(lambda r: (r[0][:5],r[0][5:10]) ).take(3)"
   ]
  },
  {
   "cell_type": "code",
   "execution_count": 36,
   "metadata": {},
   "outputs": [
    {
     "data": {
      "text/plain": [
       "['\"STATION\",', '\"FRW000340', '\"FRW000340']"
      ]
     },
     "execution_count": 36,
     "metadata": {},
     "output_type": "execute_result"
    }
   ],
   "source": [
    "lines.rdd.map(lambda r: (r[0][:5],r[0][5:10]) ).map(lambda x: x[0] + x[1]).take(3)"
   ]
  },
  {
   "cell_type": "code",
   "execution_count": 37,
   "metadata": {},
   "outputs": [
    {
     "data": {
      "text/plain": [
       "635"
      ]
     },
     "execution_count": 37,
     "metadata": {},
     "output_type": "execute_result"
    }
   ],
   "source": [
    "lines.rdd.map(lambda r: (r[0][:5],r[0][5:10]) ).map(lambda x: x[0] + x[1]).count()"
   ]
  },
  {
   "cell_type": "code",
   "execution_count": 40,
   "metadata": {},
   "outputs": [
    {
     "data": {
      "text/plain": [
       "6350"
      ]
     },
     "execution_count": 40,
     "metadata": {},
     "output_type": "execute_result"
    }
   ],
   "source": [
    "lines.rdd.map(lambda r: (r[0][:5],r[0][5:10]) ).map(lambda x: x[0] + x[1]).flatMap(lambda r: r).count()"
   ]
  },
  {
   "cell_type": "code",
   "execution_count": 7,
   "metadata": {},
   "outputs": [
    {
     "data": {
      "text/plain": [
       "['\"', 'S', 'T']"
      ]
     },
     "execution_count": 7,
     "metadata": {},
     "output_type": "execute_result"
    }
   ],
   "source": [
    "lines.rdd.map(lambda r: (r[0][:5],r[0][5:10]) ).map(lambda x: x[0] + x[1]).flatMap(lambda r: r).take(3)"
   ]
  },
  {
   "cell_type": "code",
   "execution_count": null,
   "metadata": {},
   "outputs": [],
   "source": []
  },
  {
   "cell_type": "code",
   "execution_count": 11,
   "metadata": {},
   "outputs": [
    {
     "data": {
      "text/plain": [
       "[['\"STATION\"',\n",
       "  '\"DATE\"',\n",
       "  '\"LATITUDE\"',\n",
       "  '\"LONGITUDE\"',\n",
       "  '\"ELEVATION\"',\n",
       "  '\"NAME\"',\n",
       "  '\"PRCP\"',\n",
       "  '\"PRCP_ATTRIBUTES\"',\n",
       "  '\"SNOW\"',\n",
       "  '\"SNOW_ATTRIBUTES\"',\n",
       "  '\"SNWD\"',\n",
       "  '\"SNWD_ATTRIBUTES\"',\n",
       "  '\"TMAX\"',\n",
       "  '\"TMAX_ATTRIBUTES\"',\n",
       "  '\"TMIN\"',\n",
       "  '\"TMIN_ATTRIBUTES\"',\n",
       "  '\"WSFG\"',\n",
       "  '\"WSFG_ATTRIBUTES\"',\n",
       "  '\"WT01\"',\n",
       "  '\"WT01_ATTRIBUTES\"',\n",
       "  '\"WT03\"',\n",
       "  '\"WT03_ATTRIBUTES\"',\n",
       "  '\"WT05\"',\n",
       "  '\"WT05_ATTRIBUTES\"',\n",
       "  '\"WT08\"',\n",
       "  '\"WT08_ATTRIBUTES\"',\n",
       "  '\"WT16\"',\n",
       "  '\"WT16_ATTRIBUTES\"',\n",
       "  '\"WT18\"',\n",
       "  '\"WT18_ATTRIBUTES\"']]"
      ]
     },
     "execution_count": 11,
     "metadata": {},
     "output_type": "execute_result"
    }
   ],
   "source": [
    "lines.rdd.map(lambda r: r[0].split(',')).take(1)"
   ]
  },
  {
   "cell_type": "code",
   "execution_count": 13,
   "metadata": {},
   "outputs": [
    {
     "data": {
      "text/plain": [
       "635"
      ]
     },
     "execution_count": 13,
     "metadata": {},
     "output_type": "execute_result"
    }
   ],
   "source": [
    "lines.rdd.map(lambda r: r[0].split(',')).count()"
   ]
  },
  {
   "cell_type": "code",
   "execution_count": 12,
   "metadata": {},
   "outputs": [
    {
     "data": {
      "text/plain": [
       "['\"STATION\"']"
      ]
     },
     "execution_count": 12,
     "metadata": {},
     "output_type": "execute_result"
    }
   ],
   "source": [
    "lines.rdd.map(lambda r: r[0].split(',')).flatMap(lambda r: r).take(1)"
   ]
  },
  {
   "cell_type": "code",
   "execution_count": 14,
   "metadata": {},
   "outputs": [
    {
     "data": {
      "text/plain": [
       "22302"
      ]
     },
     "execution_count": 14,
     "metadata": {},
     "output_type": "execute_result"
    }
   ],
   "source": [
    "lines.rdd.map(lambda r: r[0].split(',')).flatMap(lambda r: r).count()"
   ]
  },
  {
   "cell_type": "code",
   "execution_count": 20,
   "metadata": {},
   "outputs": [
    {
     "data": {
      "text/plain": [
       "[['STATION', 'LONGITUDE'],\n",
       " ['FRW00034067', '4.48333'],\n",
       " ['FRW00034067', '4.48333'],\n",
       " ['FRW00034067', '4.48333'],\n",
       " ['FRW00034067', '4.48333']]"
      ]
     },
     "execution_count": 20,
     "metadata": {},
     "output_type": "execute_result"
    }
   ],
   "source": [
    "lines.rdd.map(lambda r: r[0].split(',')).map(lambda x: [x[0].replace('\"',''), x[3].replace('\"','')]).take(5)"
   ]
  },
  {
   "cell_type": "markdown",
   "metadata": {},
   "source": [
    "# Exercice\n",
    "Récupérer la colonne PRCP_ATTRIBUTES et la découper pour obtenir 3 colonnes"
   ]
  },
  {
   "cell_type": "code",
   "execution_count": 30,
   "metadata": {},
   "outputs": [
    {
     "data": {
      "text/plain": [
       "[['\"STATION',\n",
       "  'DATE',\n",
       "  'LATITUDE',\n",
       "  'LONGITUDE',\n",
       "  'ELEVATION',\n",
       "  'NAME',\n",
       "  'PRCP',\n",
       "  'PRCP_ATTRIBUTES',\n",
       "  'SNOW',\n",
       "  'SNOW_ATTRIBUTES',\n",
       "  'SNWD',\n",
       "  'SNWD_ATTRIBUTES',\n",
       "  'TMAX',\n",
       "  'TMAX_ATTRIBUTES',\n",
       "  'TMIN',\n",
       "  'TMIN_ATTRIBUTES',\n",
       "  'WSFG',\n",
       "  'WSFG_ATTRIBUTES',\n",
       "  'WT01',\n",
       "  'WT01_ATTRIBUTES',\n",
       "  'WT03',\n",
       "  'WT03_ATTRIBUTES',\n",
       "  'WT05',\n",
       "  'WT05_ATTRIBUTES',\n",
       "  'WT08',\n",
       "  'WT08_ATTRIBUTES',\n",
       "  'WT16',\n",
       "  'WT16_ATTRIBUTES',\n",
       "  'WT18',\n",
       "  'WT18_ATTRIBUTES\"']]"
      ]
     },
     "execution_count": 30,
     "metadata": {},
     "output_type": "execute_result"
    }
   ],
   "source": [
    "mon_rdd = lines.rdd.map(lambda r: r[0].split('\",\"'))\n",
    "mon_rdd.take(1)"
   ]
  },
  {
   "cell_type": "code",
   "execution_count": 35,
   "metadata": {},
   "outputs": [
    {
     "data": {
      "text/plain": [
       "[['PRCP_ATTRIBUTES'], ['', '', 'X']]"
      ]
     },
     "execution_count": 35,
     "metadata": {},
     "output_type": "execute_result"
    }
   ],
   "source": [
    "mon_rdd=lines.rdd.map(lambda r: r[0].split('\",\"')).map(lambda x: x[7].split(','))\n",
    "mon_rdd.take(2)"
   ]
  },
  {
   "cell_type": "code",
   "execution_count": 40,
   "metadata": {},
   "outputs": [
    {
     "data": {
      "text/plain": [
       "['a', 'b']"
      ]
     },
     "execution_count": 40,
     "metadata": {},
     "output_type": "execute_result"
    }
   ],
   "source": [
    "['a'] + ['b']"
   ]
  },
  {
   "cell_type": "code",
   "execution_count": 44,
   "metadata": {},
   "outputs": [
    {
     "data": {
      "text/plain": [
       "[['', '', 'X'], ['', '', 'X']]"
      ]
     },
     "execution_count": 44,
     "metadata": {},
     "output_type": "execute_result"
    }
   ],
   "source": [
    "mon_rdd=lines.rdd.map(lambda r: r[0].split('\",\"')).map(lambda x: x[7].split(',')).filter(lambda x: x[0]!='PRCP_ATTRIBUTES')\n",
    "mon_rdd.take(2)"
   ]
  },
  {
   "cell_type": "code",
   "execution_count": 57,
   "metadata": {},
   "outputs": [],
   "source": [
    "def attributes(ligne):\n",
    "    station_name = ligne[0].replace('\"', '')\n",
    "    return [station_name] + ligne[7].split(',')"
   ]
  },
  {
   "cell_type": "code",
   "execution_count": 58,
   "metadata": {},
   "outputs": [
    {
     "data": {
      "text/plain": [
       "[['FRW00034067', '', '', 'X'], ['FRW00034067', '', '', 'X']]"
      ]
     },
     "execution_count": 58,
     "metadata": {},
     "output_type": "execute_result"
    }
   ],
   "source": [
    "mon_rdd=lines.rdd.map(lambda r: r[0].split('\",\"')).map(attributes).filter(lambda x: x[1]!='PRCP_ATTRIBUTES')\n",
    "mon_rdd.take(2)"
   ]
  },
  {
   "cell_type": "code",
   "execution_count": 59,
   "metadata": {},
   "outputs": [
    {
     "name": "stdout",
     "output_type": "stream",
     "text": [
      "+-----------+----+----+----+\n",
      "|    STATION|col1|col2|col3|\n",
      "+-----------+----+----+----+\n",
      "|FRW00034067|    |    |   X|\n",
      "|FRW00034067|    |    |   X|\n",
      "|FRW00034067|    |    |   X|\n",
      "+-----------+----+----+----+\n",
      "only showing top 3 rows\n",
      "\n"
     ]
    }
   ],
   "source": [
    "df = spark.createDataFrame(mon_rdd).toDF('STATION','col1', 'col2', 'col3')\n",
    "df.show(3)"
   ]
  },
  {
   "cell_type": "code",
   "execution_count": null,
   "metadata": {},
   "outputs": [],
   "source": []
  },
  {
   "cell_type": "code",
   "execution_count": null,
   "metadata": {},
   "outputs": [],
   "source": []
  },
  {
   "cell_type": "code",
   "execution_count": null,
   "metadata": {},
   "outputs": [],
   "source": []
  },
  {
   "cell_type": "code",
   "execution_count": 29,
   "metadata": {},
   "outputs": [
    {
     "data": {
      "text/plain": [
       "['\"STAT',\n",
       " 'ION\",',\n",
       " '\"FRW0',\n",
       " '00340',\n",
       " '\"FRW0',\n",
       " '00340',\n",
       " '\"FRW0',\n",
       " '00340',\n",
       " '\"FRW0',\n",
       " '00340']"
      ]
     },
     "execution_count": 29,
     "metadata": {},
     "output_type": "execute_result"
    }
   ],
   "source": [
    "lines.rdd.map(lambda r: (r[0][:5],r[0][5:10]) ).flatMap(lambda r: r).take(10)"
   ]
  },
  {
   "cell_type": "code",
   "execution_count": 20,
   "metadata": {},
   "outputs": [
    {
     "data": {
      "text/plain": [
       "['\"STATION\",\"DATE\",\"LATITUDE\",\"LONGITUDE\",\"ELEVATION\",\"NAME\",\"PRCP\",\"PRCP_ATTRIBUTES\",\"SNOW\",\"SNOW_ATTRIBUTES\",\"SNWD\",\"SNWD_ATTRIBUTES\",\"TMAX\",\"TMAX_ATTRIBUTES\",\"TMIN\",\"TMIN_ATTRIBUTES\",\"WSFG\",\"WSFG_ATTRIBUTES\",\"WT01\",\"WT01_ATTRIBUTES\",\"WT03\",\"WT03_ATTRIBUTES\",\"WT05\",\"WT05_ATTRIBUTES\",\"WT08\",\"WT08_ATTRIBUTES\",\"WT16\",\"WT16_ATTRIBUTES\",\"WT18\",\"WT18_ATTRIBUTES\"',\n",
       " '\"FRW00034067\",\"1958-09-01\",\"48.43333\",\"4.48333\",\"120.1\",\"BRIENNE, FR\",\"   25\",\",,X\",\"    0\",\",,X\",\"    0\",\",,X\",\"  200\",\",,X\",\"  183\",\",,X\",,,\"    1\",\",,X\",\"    1\",\",,X\",,,,,\"    1\",\",,X\",,',\n",
       " '\"FRW00034067\",\"1958-09-02\",\"48.43333\",\"4.48333\",\"120.1\",\"BRIENNE, FR\",\"    0\",\",,X\",\"    0\",\",,X\",\"    0\",\",,X\",\"  244\",\",,X\",\"  172\",\",,X\",,,\"    1\",\",,X\",,,,,\"    1\",\",,X\",,,,',\n",
       " '\"FRW00034067\",\"1958-09-03\",\"48.43333\",\"4.48333\",\"120.1\",\"BRIENNE, FR\",\"    0\",\",,X\",\"    0\",\",,X\",\"    0\",\",,X\",\"  278\",\",,X\",\"  150\",\",,X\",,,\"    1\",\",,X\",,,,,\"    1\",\",,X\",,,,',\n",
       " '\"FRW00034067\",\"1958-09-04\",\"48.43333\",\"4.48333\",\"120.1\",\"BRIENNE, FR\",\"    0\",\"T,,X\",\"    0\",\",,X\",\"    0\",\",,X\",\"  267\",\",,X\",\"  167\",\",,X\",,,\"    1\",\",,X\",,,,,\"    1\",\",,X\",\"    1\",\",,X\",,',\n",
       " '\"FRW00034067\",\"1958-09-05\",\"48.43333\",\"4.48333\",\"120.1\",\"BRIENNE, FR\",\"    0\",\",,X\",\"    0\",\",,X\",\"    0\",\",,X\",\"  311\",\",,X\",\"  161\",\",,X\",,,\"    1\",\",,X\",,,,,\"    1\",\",,X\",,,,',\n",
       " '\"FRW00034067\",\"1958-09-06\",\"48.43333\",\"4.48333\",\"120.1\",\"BRIENNE, FR\",\"   10\",\",,X\",\"    0\",\",,X\",\"    0\",\",,X\",\"  278\",\",,X\",\"  156\",\",,X\",,,\"    1\",\",,X\",\"    1\",\",,X\",\"    1\",\",,X\",\"    1\",\",,X\",\"    1\",\",,X\",,',\n",
       " '\"FRW00034067\",\"1958-09-07\",\"48.43333\",\"4.48333\",\"120.1\",\"BRIENNE, FR\",\"    0\",\",,X\",\"    0\",\",,X\",\"    0\",\",,X\",\"  256\",\",,X\",\"  167\",\",,X\",,,\"    1\",\",,X\",,,,,\"    1\",\",,X\",,,,',\n",
       " '\"FRW00034067\",\"1958-09-08\",\"48.43333\",\"4.48333\",\"120.1\",\"BRIENNE, FR\",\"    0\",\",,X\",\"    0\",\",,X\",\"    0\",\",,X\",\"  228\",\",,X\",\"  150\",\",,X\",,,,,,,,,,,,,,',\n",
       " '\"FRW00034067\",\"1958-09-09\",\"48.43333\",\"4.48333\",\"120.1\",\"BRIENNE, FR\",\"    0\",\",,X\",\"    0\",\",,X\",\"    0\",\",,X\",\"  250\",\",,X\",\"  128\",\",,X\",,,\"    1\",\",,X\",,,,,\"    1\",\",,X\",,,,']"
      ]
     },
     "execution_count": 20,
     "metadata": {},
     "output_type": "execute_result"
    }
   ],
   "source": [
    "lines.rdd.flatMap(lambda r: r).take(10)"
   ]
  },
  {
   "cell_type": "code",
   "execution_count": null,
   "metadata": {},
   "outputs": [],
   "source": []
  },
  {
   "cell_type": "code",
   "execution_count": null,
   "metadata": {},
   "outputs": [],
   "source": [
    "df.write.csv(output, header=True)\n",
    "print(df.columns)"
   ]
  },
  {
   "cell_type": "code",
   "execution_count": null,
   "metadata": {},
   "outputs": [],
   "source": [
    "sc.stop()"
   ]
  },
  {
   "cell_type": "code",
   "execution_count": null,
   "metadata": {},
   "outputs": [],
   "source": []
  }
 ],
 "metadata": {
  "kernelspec": {
   "display_name": "Python 3",
   "language": "python",
   "name": "python3"
  },
  "language_info": {
   "codemirror_mode": {
    "name": "ipython",
    "version": 3
   },
   "file_extension": ".py",
   "mimetype": "text/x-python",
   "name": "python",
   "nbconvert_exporter": "python",
   "pygments_lexer": "ipython3",
   "version": "3.8.6"
  }
 },
 "nbformat": 4,
 "nbformat_minor": 4
}
