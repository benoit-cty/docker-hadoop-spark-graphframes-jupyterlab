{
 "cells": [
  {
   "cell_type": "markdown",
   "metadata": {},
   "source": [
    "# pySpark : Streaming RDD"
   ]
  },
  {
   "cell_type": "code",
   "execution_count": 1,
   "metadata": {},
   "outputs": [],
   "source": [
    "from pyspark import SparkContext\n",
    "from pyspark import SparkConf\n",
    "from pyspark.sql import SparkSession\n",
    "import pyspark.sql.functions as F"
   ]
  },
  {
   "cell_type": "code",
   "execution_count": 2,
   "metadata": {},
   "outputs": [],
   "source": [
    "spark = SparkSession.builder.master('spark://localhost:7077').appName('StreamingBCO').getOrCreate()\n",
    "sc = spark.sparkContext"
   ]
  },
  {
   "cell_type": "code",
   "execution_count": 3,
   "metadata": {},
   "outputs": [],
   "source": [
    "from pyspark.streaming import StreamingContext\n",
    "from operator import add, sub\n",
    "\n",
    "ssc = StreamingContext(sparkContext=sc, batchDuration=1)"
   ]
  },
  {
   "cell_type": "code",
   "execution_count": 4,
   "metadata": {},
   "outputs": [],
   "source": [
    "#??StreamingContext"
   ]
  },
  {
   "cell_type": "code",
   "execution_count": 5,
   "metadata": {},
   "outputs": [],
   "source": [
    "rddQueue = []\n",
    "for i in range(5):\n",
    "    rddQueue += [ssc.sparkContext.parallelize([i, i+1])]"
   ]
  },
  {
   "cell_type": "code",
   "execution_count": 6,
   "metadata": {},
   "outputs": [],
   "source": [
    "inputStream = ssc.queueStream(rddQueue)\n",
    "\n",
    "inputStream.map(lambda x:\"Input: \" + str(x)).pprint()\n",
    "\n",
    "inputStream.reduce(add)\\\n",
    "    .map(lambda x:\"Output :\" + str(x)) \\\n",
    "    .pprint()"
   ]
  },
  {
   "cell_type": "code",
   "execution_count": 7,
   "metadata": {},
   "outputs": [
    {
     "name": "stdout",
     "output_type": "stream",
     "text": [
      "-------------------------------------------\n",
      "Time: 2020-11-26 15:54:30\n",
      "-------------------------------------------\n",
      "Input: 0\n",
      "Input: 1\n",
      "\n",
      "-------------------------------------------\n",
      "Time: 2020-11-26 15:54:30\n",
      "-------------------------------------------\n",
      "Output :1\n",
      "\n",
      "-------------------------------------------\n",
      "Time: 2020-11-26 15:54:31\n",
      "-------------------------------------------\n",
      "Input: 1\n",
      "Input: 2\n",
      "\n",
      "-------------------------------------------\n",
      "Time: 2020-11-26 15:54:31\n",
      "-------------------------------------------\n",
      "Output :3\n",
      "\n",
      "-------------------------------------------\n",
      "Time: 2020-11-26 15:54:32\n",
      "-------------------------------------------\n",
      "Input: 2\n",
      "Input: 3\n",
      "\n",
      "-------------------------------------------\n",
      "Time: 2020-11-26 15:54:32\n",
      "-------------------------------------------\n",
      "Output :5\n",
      "\n",
      "-------------------------------------------\n",
      "Time: 2020-11-26 15:54:33\n",
      "-------------------------------------------\n",
      "Input: 3\n",
      "Input: 4\n",
      "\n",
      "-------------------------------------------\n",
      "Time: 2020-11-26 15:54:33\n",
      "-------------------------------------------\n",
      "Output :7\n",
      "\n",
      "-------------------------------------------\n",
      "Time: 2020-11-26 15:54:34\n",
      "-------------------------------------------\n",
      "Input: 4\n",
      "Input: 5\n",
      "\n",
      "-------------------------------------------\n",
      "Time: 2020-11-26 15:54:34\n",
      "-------------------------------------------\n",
      "Output :9\n",
      "\n",
      "-------------------------------------------\n",
      "Time: 2020-11-26 15:54:35\n",
      "-------------------------------------------\n",
      "\n",
      "-------------------------------------------\n",
      "Time: 2020-11-26 15:54:35\n",
      "-------------------------------------------\n",
      "\n",
      "-------------------------------------------\n",
      "Time: 2020-11-26 15:54:36\n",
      "-------------------------------------------\n",
      "\n",
      "-------------------------------------------\n",
      "Time: 2020-11-26 15:54:36\n",
      "-------------------------------------------\n",
      "\n"
     ]
    }
   ],
   "source": [
    "from time import sleep\n",
    "ssc.start()\n",
    "sleep(5)\n",
    "ssc.stop(stopSparkContext=True, stopGraceFully=True)"
   ]
  },
  {
   "cell_type": "code",
   "execution_count": null,
   "metadata": {},
   "outputs": [],
   "source": []
  }
 ],
 "metadata": {
  "kernelspec": {
   "display_name": "Python 3",
   "language": "python",
   "name": "python3"
  },
  "language_info": {
   "codemirror_mode": {
    "name": "ipython",
    "version": 3
   },
   "file_extension": ".py",
   "mimetype": "text/x-python",
   "name": "python",
   "nbconvert_exporter": "python",
   "pygments_lexer": "ipython3",
   "version": "3.8.6"
  }
 },
 "nbformat": 4,
 "nbformat_minor": 4
}
