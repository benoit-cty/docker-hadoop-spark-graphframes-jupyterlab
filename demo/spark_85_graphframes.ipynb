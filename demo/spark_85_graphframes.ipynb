{
 "cells": [
  {
   "cell_type": "markdown",
   "metadata": {},
   "source": [
    "# Demo of Spark graphFrames\n",
    "\n",
    "Installation : https://towardsdatascience.com/graphframes-in-jupyter-a-practical-guide-9b3b346cebc5\n",
    "\n",
    "Thanks to https://medium.com/towards-artificial-intelligence/relationship-analysis-inspark-using-graphx-57ffcce8773f\n",
    "\n",
    "and https://github.com/parlad/Spark-GraphX-Relationship_Analysis/blob/master/README.md"
   ]
  },
  {
   "cell_type": "code",
   "execution_count": 1,
   "metadata": {},
   "outputs": [],
   "source": [
    "import pyspark\n",
    "from pyspark.sql import SparkSession\n",
    "spark = SparkSession \\\n",
    "    .builder \\\n",
    "    .appName('Graph') \\\n",
    "    .getOrCreate()\n",
    "sc = spark.sparkContext"
   ]
  },
  {
   "cell_type": "code",
   "execution_count": 2,
   "metadata": {},
   "outputs": [],
   "source": [
    "#!pip install graphframes"
   ]
  },
  {
   "cell_type": "code",
   "execution_count": 3,
   "metadata": {},
   "outputs": [
    {
     "name": "stdout",
     "output_type": "stream",
     "text": [
      "Found 12 items\n",
      "-rw-r--r--   1 root supergroup    2772143 2020-11-29 07:57 /demo/diamonds.csv\n",
      "-rw-r--r--   1 root supergroup     585225 2020-11-29 07:57 /demo/fuel_econ.csv\n",
      "drwxr-xr-x   - root supergroup          0 2020-11-29 08:08 /demo/graphframes\n",
      "drwxr-xr-x   - root supergroup          0 2020-11-29 07:57 /demo/house-prize\n",
      "drwxr-xr-x   - root supergroup          0 2020-11-29 07:57 /demo/lda\n",
      "drwxr-xr-x   - root supergroup          0 2020-11-29 07:57 /demo/noaa\n",
      "-rw-r--r--   1 root supergroup        101 2020-11-29 07:57 /demo/person.csv\n",
      "-rw-r--r--   1 root supergroup      40454 2020-11-29 07:57 /demo/pokemon.csv\n",
      "drwxr-xr-x   - root supergroup          0 2020-11-29 07:57 /demo/recommendation\n",
      "-rw-r--r--   1 root supergroup        212 2020-11-29 07:57 /demo/relationship.csv\n",
      "drwxr-xr-x   - root supergroup          0 2020-11-29 07:57 /demo/titanic\n",
      "drwxr-xr-x   - root supergroup          0 2020-11-29 07:57 /demo/txt\n"
     ]
    }
   ],
   "source": [
    "!hdfs dfs -ls /demo/"
   ]
  },
  {
   "cell_type": "code",
   "execution_count": 4,
   "metadata": {},
   "outputs": [],
   "source": [
    "from graphframes import *\n",
    "personsDf = spark.read.csv('/demo/graphframes/person.csv',header=True, inferSchema=True)\n",
    "#personsDf = spark.read.csv('/demo/graphframes/person.csv',header=True, inferSchema=True)\n",
    "personsDf.createOrReplaceTempView(\"persons\")\n",
    "relationshipDf = spark.read.csv('/demo/graphframes/relationship.csv',header=True, inferSchema=True)\n",
    "relationshipDf.createOrReplaceTempView(\"relationship\")\n",
    "graph = GraphFrame(personsDf, relationshipDf)"
   ]
  },
  {
   "cell_type": "code",
   "execution_count": 5,
   "metadata": {},
   "outputs": [
    {
     "name": "stdout",
     "output_type": "stream",
     "text": [
      "+---+--------+---+---------+\n",
      "| id|    name|age|     type|\n",
      "+---+--------+---+---------+\n",
      "|  1|  Andrew| 45|   person|\n",
      "|  2|  Sierra| 43|   person|\n",
      "|  3|     Bob| 12|   person|\n",
      "|  4|   Emily| 10|   person|\n",
      "|  5| William| 35|   person|\n",
      "|  6|  Rachel| 32|   person|\n",
      "|  7|    Toto| 42|   person|\n",
      "|  8|    Titi| 42|   person|\n",
      "|  9|  Europe|  0|continent|\n",
      "| 10|Amerique|  0|continent|\n",
      "| 11|  France|  0|     pays|\n",
      "| 12|     USA|  0|     pays|\n",
      "+---+--------+---+---------+\n",
      "\n"
     ]
    }
   ],
   "source": [
    "spark.sql(\"select * from persons\").show()"
   ]
  },
  {
   "cell_type": "code",
   "execution_count": 6,
   "metadata": {},
   "outputs": [
    {
     "name": "stdout",
     "output_type": "stream",
     "text": [
      "+---+---+--------+\n",
      "|src|dst|relation|\n",
      "+---+---+--------+\n",
      "|  1|  2| Husband|\n",
      "|  1|  3|  Father|\n",
      "|  1|  4|  Father|\n",
      "|  1|  5|  Friend|\n",
      "|  1|  6|  Friend|\n",
      "|  2|  1|    Wife|\n",
      "|  2|  3|  Mother|\n",
      "|  2|  4|  Mother|\n",
      "|  2|  6|  Friend|\n",
      "|  3|  1|     Son|\n",
      "|  3|  2|     Son|\n",
      "|  4|  1|Daughter|\n",
      "|  4|  2|Daughter|\n",
      "|  5|  1|  Friend|\n",
      "|  6|  1|  Friend|\n",
      "|  6|  2|  Friend|\n",
      "|  7|  8|  Friend|\n",
      "|  8|  7|  Friend|\n",
      "|  7| 12|     nee|\n",
      "|  7| 11|  habite|\n",
      "+---+---+--------+\n",
      "only showing top 20 rows\n",
      "\n"
     ]
    }
   ],
   "source": [
    "spark.sql(\"select * from relationship\").show()"
   ]
  },
  {
   "cell_type": "code",
   "execution_count": 7,
   "metadata": {},
   "outputs": [
    {
     "name": "stdout",
     "output_type": "stream",
     "text": [
      "+---+------+\n",
      "| id|degree|\n",
      "+---+------+\n",
      "| 12|     2|\n",
      "|  1|    10|\n",
      "|  6|     4|\n",
      "|  3|     4|\n",
      "|  5|     2|\n",
      "|  9|     1|\n",
      "|  4|     4|\n",
      "|  8|     2|\n",
      "|  7|     4|\n",
      "| 10|     1|\n",
      "| 11|     2|\n",
      "|  2|     8|\n",
      "+---+------+\n",
      "\n"
     ]
    }
   ],
   "source": [
    "#graph.inDegrees().show();\n",
    "graph.degrees.show();"
   ]
  },
  {
   "cell_type": "code",
   "execution_count": 8,
   "metadata": {},
   "outputs": [
    {
     "name": "stdout",
     "output_type": "stream",
     "text": [
      "+---+------+\n",
      "| id|degree|\n",
      "+---+------+\n",
      "|  1|    10|\n",
      "+---+------+\n",
      "\n"
     ]
    }
   ],
   "source": [
    "#Here you are going to find all the edges connected to Andrew.\n",
    "graph.degrees.filter(\"id = 1\").show()"
   ]
  },
  {
   "cell_type": "markdown",
   "metadata": {},
   "source": [
    "# Graph request\n",
    "\n",
    "https://graphframes.github.io/graphframes/docs/_site/user-guide.html#motif-finding"
   ]
  },
  {
   "cell_type": "code",
   "execution_count": 9,
   "metadata": {},
   "outputs": [
    {
     "name": "stdout",
     "output_type": "stream",
     "text": [
      "+--------------------+----------------+--------------------+----------------+\n",
      "|                   a|               e|                   b|              e2|\n",
      "+--------------------+----------------+--------------------+----------------+\n",
      "|[1, Andrew, 45, p...| [1, 2, Husband]|[2, Sierra, 43, p...| [1, 2, Husband]|\n",
      "|[1, Andrew, 45, p...|  [1, 3, Father]|[3, Bob, 12, person]|  [1, 3, Father]|\n",
      "|[1, Andrew, 45, p...|  [1, 4, Father]|[4, Emily, 10, pe...|  [1, 4, Father]|\n",
      "|[1, Andrew, 45, p...|  [1, 5, Friend]|[5, William, 35, ...|  [1, 5, Friend]|\n",
      "|[1, Andrew, 45, p...|  [1, 6, Friend]|[6, Rachel, 32, p...|  [1, 6, Friend]|\n",
      "|[2, Sierra, 43, p...|    [2, 1, Wife]|[1, Andrew, 45, p...|    [2, 1, Wife]|\n",
      "|[2, Sierra, 43, p...|  [2, 3, Mother]|[3, Bob, 12, person]|  [2, 3, Mother]|\n",
      "|[2, Sierra, 43, p...|  [2, 4, Mother]|[4, Emily, 10, pe...|  [2, 4, Mother]|\n",
      "|[2, Sierra, 43, p...|  [2, 6, Friend]|[6, Rachel, 32, p...|  [2, 6, Friend]|\n",
      "|[3, Bob, 12, person]|     [3, 1, Son]|[1, Andrew, 45, p...|     [3, 1, Son]|\n",
      "|[3, Bob, 12, person]|     [3, 2, Son]|[2, Sierra, 43, p...|     [3, 2, Son]|\n",
      "|[4, Emily, 10, pe...|[4, 1, Daughter]|[1, Andrew, 45, p...|[4, 1, Daughter]|\n",
      "|[4, Emily, 10, pe...|[4, 2, Daughter]|[2, Sierra, 43, p...|[4, 2, Daughter]|\n",
      "|[5, William, 35, ...|  [5, 1, Friend]|[1, Andrew, 45, p...|  [5, 1, Friend]|\n",
      "|[6, Rachel, 32, p...|  [6, 1, Friend]|[1, Andrew, 45, p...|  [6, 1, Friend]|\n",
      "|[6, Rachel, 32, p...|  [6, 2, Friend]|[2, Sierra, 43, p...|  [6, 2, Friend]|\n",
      "|[7, Toto, 42, per...|  [7, 8, Friend]|[8, Titi, 42, per...|  [7, 8, Friend]|\n",
      "|[8, Titi, 42, per...|  [8, 7, Friend]|[7, Toto, 42, per...|  [8, 7, Friend]|\n",
      "|[7, Toto, 42, per...|    [7, 12, nee]|  [12, USA, 0, pays]|    [7, 12, nee]|\n",
      "|[7, Toto, 42, per...| [7, 11, habite]|[11, France, 0, p...| [7, 11, habite]|\n",
      "+--------------------+----------------+--------------------+----------------+\n",
      "only showing top 20 rows\n",
      "\n"
     ]
    }
   ],
   "source": [
    "graph.find(\"(a)-[e]->(b);(a)-[e2]->(b)\").show()"
   ]
  },
  {
   "cell_type": "code",
   "execution_count": 10,
   "metadata": {},
   "outputs": [
    {
     "name": "stdout",
     "output_type": "stream",
     "text": [
      "+--------------------+---------------+--------------------+--------------+--------------------+--------------+\n",
      "|                   a|              e|                   b|            e2|                   c|            e3|\n",
      "+--------------------+---------------+--------------------+--------------+--------------------+--------------+\n",
      "|[1, Andrew, 45, p...|[1, 2, Husband]|[2, Sierra, 43, p...|[2, 6, Friend]|[6, Rachel, 32, p...|[6, 1, Friend]|\n",
      "|[2, Sierra, 43, p...|   [2, 1, Wife]|[1, Andrew, 45, p...|[1, 6, Friend]|[6, Rachel, 32, p...|[6, 2, Friend]|\n",
      "+--------------------+---------------+--------------------+--------------+--------------------+--------------+\n",
      "\n"
     ]
    }
   ],
   "source": [
    "graph.find(\"(a)-[e]->(b);(b)-[e2]->(c);(c)-[e3]->(a)\").filter(\"e2.relation == e3.relation\").show()"
   ]
  },
  {
   "cell_type": "markdown",
   "metadata": {},
   "source": [
    "## Connected components algorithm \n",
    "\n",
    "The connected components algorithm finds isolated clusters or isolated sub-graphs. These clusters are sets of connected vertices in a graph where each vertex is reachable from any other vertex in the same set."
   ]
  },
  {
   "cell_type": "code",
   "execution_count": 11,
   "metadata": {},
   "outputs": [
    {
     "name": "stdout",
     "output_type": "stream",
     "text": [
      "+---+---------+\n",
      "| id|component|\n",
      "+---+---------+\n",
      "|  1|        1|\n",
      "|  3|        1|\n",
      "|  4|        1|\n",
      "|  2|        1|\n",
      "|  5|        1|\n",
      "|  6|        1|\n",
      "|  7|        7|\n",
      "|  8|        7|\n",
      "| 12|        7|\n",
      "|  9|        7|\n",
      "| 10|        7|\n",
      "| 11|        7|\n",
      "+---+---------+\n",
      "\n"
     ]
    }
   ],
   "source": [
    "spark.sparkContext.setCheckpointDir('/tmp')\n",
    "connections = graph.connectedComponents()\n",
    "connections.select(\"id\", \"component\").orderBy(\"component\").show()"
   ]
  },
  {
   "cell_type": "markdown",
   "metadata": {},
   "source": [
    "# Triangle count"
   ]
  },
  {
   "cell_type": "code",
   "execution_count": 12,
   "metadata": {},
   "outputs": [
    {
     "name": "stdout",
     "output_type": "stream",
     "text": [
      "+-----+---+--------+---+---------+\n",
      "|count| id|    name|age|     type|\n",
      "+-----+---+--------+---+---------+\n",
      "|    0| 12|     USA|  0|     pays|\n",
      "|    3|  1|  Andrew| 45|   person|\n",
      "|    1|  6|  Rachel| 32|   person|\n",
      "|    1|  3|     Bob| 12|   person|\n",
      "|    0|  5| William| 35|   person|\n",
      "|    0|  9|  Europe|  0|continent|\n",
      "|    1|  4|   Emily| 10|   person|\n",
      "|    0|  8|    Titi| 42|   person|\n",
      "|    0|  7|    Toto| 42|   person|\n",
      "|    0| 10|Amerique|  0|continent|\n",
      "|    0| 11|  France|  0|     pays|\n",
      "|    3|  2|  Sierra| 43|   person|\n",
      "+-----+---+--------+---+---------+\n",
      "\n"
     ]
    }
   ],
   "source": [
    "personsTriangleCountDf = graph.triangleCount();\n",
    "personsTriangleCountDf.show()"
   ]
  },
  {
   "cell_type": "code",
   "execution_count": 13,
   "metadata": {},
   "outputs": [
    {
     "name": "stdout",
     "output_type": "stream",
     "text": [
      "+-----+---+------+---+------+---------+\n",
      "|count| id|  name|age|  type|max_count|\n",
      "+-----+---+------+---+------+---------+\n",
      "|    3|  1|Andrew| 45|person|        3|\n",
      "|    3|  2|Sierra| 43|person|        3|\n",
      "+-----+---+------+---+------+---------+\n",
      "\n"
     ]
    }
   ],
   "source": [
    "personsTriangleCountDf.createOrReplaceTempView(\"personsTriangleCount\")\n",
    "maxCountDf = spark.sql(\"select max(count) as max_count from personsTriangleCount\")\n",
    "maxCountDf.createOrReplaceTempView(\"personsMaxTriangleCount\")\n",
    "spark.sql(\"select * from personsTriangleCount P JOIN (select * from personsMaxTriangleCount) M ON (M.max_count = P.count) \").show()"
   ]
  },
  {
   "cell_type": "markdown",
   "metadata": {},
   "source": [
    "## What is the Shortest Path ?\n",
    "\n",
    "[Breadth-First Algorithm](https://en.wikipedia.org/wiki/Breadth-first_search) : bfs"
   ]
  },
  {
   "cell_type": "code",
   "execution_count": 14,
   "metadata": {},
   "outputs": [
    {
     "name": "stdout",
     "output_type": "stream",
     "text": [
      "+--------------------+-----------+--------------------+--------------+--------------------+\n",
      "|                from|         e0|                  v1|            e1|                  to|\n",
      "+--------------------+-----------+--------------------+--------------+--------------------+\n",
      "|[3, Bob, 12, person]|[3, 1, Son]|[1, Andrew, 45, p...|[1, 5, Friend]|[5, William, 35, ...|\n",
      "+--------------------+-----------+--------------------+--------------+--------------------+\n",
      "\n"
     ]
    }
   ],
   "source": [
    "graph.bfs(fromExpr=\"Name='Bob'\",toExpr=\"Name='William'\").show()"
   ]
  },
  {
   "cell_type": "code",
   "execution_count": 15,
   "metadata": {},
   "outputs": [
    {
     "name": "stdout",
     "output_type": "stream",
     "text": [
      "+--------------------+-----------+--------------------+--------------+--------------------+\n",
      "|                from|         e0|                  v1|            e1|                  to|\n",
      "+--------------------+-----------+--------------------+--------------+--------------------+\n",
      "|[3, Bob, 12, person]|[3, 1, Son]|[1, Andrew, 45, p...|[1, 5, Friend]|[5, William, 35, ...|\n",
      "+--------------------+-----------+--------------------+--------------+--------------------+\n",
      "\n"
     ]
    }
   ],
   "source": [
    "graph.bfs(\n",
    "   fromExpr = \"name = 'Bob'\",\n",
    "   toExpr = \"name = 'William'\",\n",
    "   ).show()"
   ]
  },
  {
   "cell_type": "markdown",
   "metadata": {},
   "source": [
    "# Famous Google PageRank"
   ]
  },
  {
   "cell_type": "code",
   "execution_count": 16,
   "metadata": {},
   "outputs": [
    {
     "name": "stdout",
     "output_type": "stream",
     "text": [
      "root\n",
      " |-- id: integer (nullable = true)\n",
      " |-- name: string (nullable = true)\n",
      " |-- age: integer (nullable = true)\n",
      " |-- type: string (nullable = true)\n",
      " |-- pagerank: double (nullable = true)\n",
      "\n"
     ]
    }
   ],
   "source": [
    "pageRank = graph.pageRank(resetProbability=0.20, maxIter=10)\n",
    "pageRank.vertices.printSchema()"
   ]
  },
  {
   "cell_type": "code",
   "execution_count": 17,
   "metadata": {},
   "outputs": [
    {
     "name": "stdout",
     "output_type": "stream",
     "text": [
      "root\n",
      " |-- src: integer (nullable = true)\n",
      " |-- dst: integer (nullable = true)\n",
      " |-- relation: string (nullable = true)\n",
      " |-- weight: double (nullable = true)\n",
      "\n"
     ]
    }
   ],
   "source": [
    "pageRank.edges.printSchema()"
   ]
  },
  {
   "cell_type": "code",
   "execution_count": 18,
   "metadata": {},
   "outputs": [
    {
     "name": "stdout",
     "output_type": "stream",
     "text": [
      "+---+---+-----------+------------------+\n",
      "|src|dst|   relation|            weight|\n",
      "+---+---+-----------+------------------+\n",
      "| 11|  9|est_contenu|               1.0|\n",
      "| 12| 10|est_contenu|               1.0|\n",
      "|  5|  1|     Friend|               1.0|\n",
      "|  8|  7|     Friend|               1.0|\n",
      "|  3|  1|        Son|               0.5|\n",
      "|  6|  2|     Friend|               0.5|\n",
      "|  3|  2|        Son|               0.5|\n",
      "|  4|  1|   Daughter|               0.5|\n",
      "|  6|  1|     Friend|               0.5|\n",
      "|  4|  2|   Daughter|               0.5|\n",
      "|  7| 12|        nee|0.3333333333333333|\n",
      "|  7|  8|     Friend|0.3333333333333333|\n",
      "|  7| 11|     habite|0.3333333333333333|\n",
      "|  2|  3|     Mother|              0.25|\n",
      "|  2|  1|       Wife|              0.25|\n",
      "|  2|  4|     Mother|              0.25|\n",
      "|  2|  6|     Friend|              0.25|\n",
      "|  1|  2|    Husband|               0.2|\n",
      "|  1|  3|     Father|               0.2|\n",
      "|  1|  4|     Father|               0.2|\n",
      "+---+---+-----------+------------------+\n",
      "only showing top 20 rows\n",
      "\n"
     ]
    }
   ],
   "source": [
    "pageRank.edges.orderBy(\"weight\", ascending=False).show()"
   ]
  },
  {
   "cell_type": "markdown",
   "metadata": {},
   "source": [
    "As you can see from the table William’s relationship with Andrew gets the maximum weight since it is unique. No one other than Andrew is a friend to William."
   ]
  },
  {
   "cell_type": "markdown",
   "metadata": {},
   "source": [
    "# Create Datasets"
   ]
  },
  {
   "cell_type": "code",
   "execution_count": 19,
   "metadata": {},
   "outputs": [
    {
     "name": "stdout",
     "output_type": "stream",
     "text": [
      "Overwriting person.csv\n"
     ]
    }
   ],
   "source": [
    "%%writefile person.csv\n",
    "id,name,age,type\n",
    "1,Andrew,45,person\n",
    "2,Sierra,43,person\n",
    "3,Bob,12,person\n",
    "4,Emily,10,person\n",
    "5,William,35,person\n",
    "6,Rachel,32,person\n",
    "7,Toto,42,person\n",
    "8,Titi,42,person\n",
    "9,Europe,0,continent\n",
    "10,Amerique,0,continent\n",
    "11,France,0,pays\n",
    "12,USA,0,pays"
   ]
  },
  {
   "cell_type": "code",
   "execution_count": 20,
   "metadata": {},
   "outputs": [
    {
     "name": "stdout",
     "output_type": "stream",
     "text": [
      "Overwriting relationship.csv\n"
     ]
    }
   ],
   "source": [
    "%%writefile relationship.csv\n",
    "src,dst,relation\n",
    "1,2,Husband\n",
    "1,3,Father\n",
    "1,4,Father\n",
    "1,5,Friend\n",
    "1,6,Friend\n",
    "2,1,Wife\n",
    "2,3,Mother\n",
    "2,4,Mother\n",
    "2,6,Friend\n",
    "3,1,Son\n",
    "3,2,Son\n",
    "4,1,Daughter\n",
    "4,2,Daughter\n",
    "5,1,Friend\n",
    "6,1,Friend\n",
    "6,2,Friend\n",
    "7,8,Friend\n",
    "8,7,Friend\n",
    "7,12,nee\n",
    "7,11,habite\n",
    "11,9,est_contenu\n",
    "12,10,est_contenu"
   ]
  },
  {
   "cell_type": "code",
   "execution_count": 21,
   "metadata": {},
   "outputs": [],
   "source": [
    "!hdfs dfs -mkdir -p /demo/graphframes\n",
    "!hdfs dfs -copyFromLocal -f person.csv /demo/graphframes/person.csv\n",
    "!hdfs dfs -copyFromLocal -f relationship.csv /demo/graphframes/relationship.csv"
   ]
  },
  {
   "cell_type": "code",
   "execution_count": 22,
   "metadata": {},
   "outputs": [
    {
     "name": "stdout",
     "output_type": "stream",
     "text": [
      "Found 2 items\n",
      "-rw-r--r--   1 root supergroup        238 2020-11-29 08:12 /demo/graphframes/person.csv\n",
      "-rw-r--r--   1 root supergroup        268 2020-11-29 08:12 /demo/graphframes/relationship.csv\n"
     ]
    }
   ],
   "source": [
    "!hdfs dfs -ls /demo/graphframes"
   ]
  },
  {
   "cell_type": "markdown",
   "metadata": {},
   "source": [
    "# WIP : Plot the graph\n",
    "\n",
    "Attempt to plot the graph, but did not work :-("
   ]
  },
  {
   "cell_type": "code",
   "execution_count": 23,
   "metadata": {},
   "outputs": [],
   "source": [
    "#!pip install python-igraph\n",
    "#!pip install xcffib\n",
    "#!pip install cairocffi"
   ]
  },
  {
   "cell_type": "code",
   "execution_count": null,
   "metadata": {},
   "outputs": [],
   "source": [
    "import igraph as ig\n",
    "ig.plot(ig.Graph.Full(3), vertex_label=['a', 'b', 'c'], bbox=(100, 100))"
   ]
  },
  {
   "cell_type": "code",
   "execution_count": null,
   "metadata": {},
   "outputs": [],
   "source": [
    "import cairocffi\n",
    "from igraph import *"
   ]
  },
  {
   "cell_type": "code",
   "execution_count": null,
   "metadata": {},
   "outputs": [],
   "source": [
    "width, height = 100, 50\n",
    "\n",
    "\n",
    "surface = cairo.ImageSurface(cairo.FORMAT_ARGB32, width, height)\n",
    "\n",
    "cr = cairo.Context(surface)\n",
    "cr.set_source_rgb(0.7, 0.9, 0.0)\n",
    "cr.rotate(-45)\n",
    "cr.rectangle(0, 0, 40, 40)\n",
    "cr.fill()\n",
    "\n",
    "# The context will output in the cell\n",
    "cr"
   ]
  },
  {
   "cell_type": "code",
   "execution_count": null,
   "metadata": {},
   "outputs": [],
   "source": [
    "# https://igraph.org/python/doc/tutorial/tutorial.html\n",
    "g = Graph()\n",
    "g.add_vertices(3)\n",
    "g.add_edges([(0,1), (1,2)])\n",
    "print(g)"
   ]
  },
  {
   "cell_type": "code",
   "execution_count": null,
   "metadata": {},
   "outputs": [],
   "source": [
    "g._repr_svg_()\n",
    "#layout = g.layout(\"kk\")\n",
    "#p = plot(g, layout = layout)"
   ]
  },
  {
   "cell_type": "code",
   "execution_count": null,
   "metadata": {},
   "outputs": [],
   "source": [
    "igraph.plot(gr).show()"
   ]
  },
  {
   "cell_type": "code",
   "execution_count": null,
   "metadata": {},
   "outputs": [],
   "source": [
    "\n",
    "ig = Graph.TupleList(graph.edges.collect(), directed=True)\n",
    "plot(ig)"
   ]
  },
  {
   "cell_type": "code",
   "execution_count": null,
   "metadata": {},
   "outputs": [],
   "source": []
  }
 ],
 "metadata": {
  "kernelspec": {
   "display_name": "Python 3",
   "language": "python",
   "name": "python3"
  },
  "language_info": {
   "codemirror_mode": {
    "name": "ipython",
    "version": 3
   },
   "file_extension": ".py",
   "mimetype": "text/x-python",
   "name": "python",
   "nbconvert_exporter": "python",
   "pygments_lexer": "ipython3",
   "version": "3.8.6"
  }
 },
 "nbformat": 4,
 "nbformat_minor": 4
}
