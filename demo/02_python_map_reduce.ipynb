{
 "cells": [
  {
   "cell_type": "markdown",
   "metadata": {},
   "source": [
    "# Map Reduce in Python"
   ]
  },
  {
   "cell_type": "code",
   "execution_count": 1,
   "metadata": {},
   "outputs": [],
   "source": [
    "def our_map(text):\n",
    "    output = ''\n",
    "    words = text.split(' ')\n",
    "    for word in words:\n",
    "        output+=f'{word}\\t1\\n'\n",
    "        #output = output + word + '\\t' + '1' + '\\n'\n",
    "    return output"
   ]
  },
  {
   "cell_type": "code",
   "execution_count": 1,
   "metadata": {},
   "outputs": [
    {
     "data": {
      "text/plain": [
       "('mot', 1)"
      ]
     },
     "execution_count": 1,
     "metadata": {},
     "output_type": "execute_result"
    }
   ],
   "source": [
    "('mot', 1)"
   ]
  },
  {
   "cell_type": "code",
   "execution_count": 6,
   "metadata": {},
   "outputs": [
    {
     "name": "stdout",
     "output_type": "stream",
     "text": [
      "Exemple\t1\n",
      "de\t1\n",
      "MapReduce\t1\n",
      "avec\t1\n",
      "Python\t1\n",
      "car\t1\n",
      "Python\t1\n",
      "permet\t1\n",
      "de\t1\n",
      "beaux\t1\n",
      "exemples.\t1\n",
      "\n"
     ]
    }
   ],
   "source": [
    "texte = \"Exemple de MapReduce avec Python car Python permet de beaux exemples.\"\n",
    "res = our_map(texte)\n",
    "print(res)"
   ]
  },
  {
   "cell_type": "code",
   "execution_count": 3,
   "metadata": {},
   "outputs": [
    {
     "data": {
      "text/plain": [
       "6"
      ]
     },
     "execution_count": 3,
     "metadata": {},
     "output_type": "execute_result"
    }
   ],
   "source": [
    "res={\n",
    "    'unmot' : 5,\n",
    "    'unautemot' : 6\n",
    "}\n",
    "res['unautemot']"
   ]
  },
  {
   "cell_type": "code",
   "execution_count": 4,
   "metadata": {},
   "outputs": [],
   "source": [
    "def reduce(a_map):\n",
    "    res={}\n",
    "    \n",
    "    lines = a_map.split('\\n')\n",
    "    for line in lines:\n",
    "        if len(line) < 3:\n",
    "            continue\n",
    "        word, count = line.split('\\t',1)\n",
    "        if res.get(word):\n",
    "            res[word] = str(int(res.get(word)) + int(count))\n",
    "        else:\n",
    "            res[word] = '1'\n",
    "    output = ''\n",
    "    for key,value in res.items():\n",
    "        output+=f'{key}\\t{value}\\n'\n",
    "    return output"
   ]
  },
  {
   "cell_type": "code",
   "execution_count": 5,
   "metadata": {},
   "outputs": [
    {
     "name": "stdout",
     "output_type": "stream",
     "text": [
      "Exemple\t1\n",
      "de\t2\n",
      "MapReduce\t1\n",
      "avec\t1\n",
      "Python\t2\n",
      "car\t1\n",
      "permet\t1\n",
      "beaux\t1\n",
      "exemples\t1\n",
      "\n"
     ]
    }
   ],
   "source": [
    "print(reduce(our_map(texte)))"
   ]
  },
  {
   "cell_type": "code",
   "execution_count": null,
   "metadata": {},
   "outputs": [],
   "source": []
  },
  {
   "cell_type": "code",
   "execution_count": 9,
   "metadata": {},
   "outputs": [
    {
     "name": "stdout",
     "output_type": "stream",
     "text": [
      "545 ns ± 47 ns per loop (mean ± std. dev. of 7 runs, 1000000 loops each)\n"
     ]
    }
   ],
   "source": [
    "%%timeit\n",
    "res={'a':'1','b':'2'}\n",
    "a = '\\t'.join(res)"
   ]
  },
  {
   "cell_type": "code",
   "execution_count": 7,
   "metadata": {},
   "outputs": [
    {
     "name": "stdout",
     "output_type": "stream",
     "text": [
      "Nombre de caractères à traiter : 6900000\n",
      "Exemple\t1\n",
      "de\t200000\n",
      "MapReduce\t100000\n",
      "avec\t100000\n",
      "Python\t200000\n",
      "car\t100000\n",
      "permet\t100000\n",
      "beaux\t100000\n",
      "exemples.Exemple\t99999\n",
      "exemples.\t1\n",
      "\n",
      "CPU times: user 2.14 s, sys: 58.6 ms, total: 2.2 s\n",
      "Wall time: 2.27 s\n"
     ]
    }
   ],
   "source": [
    "%%time\n",
    "notre_texte = ''\n",
    "for i in range(100_000):\n",
    "    notre_texte += texte\n",
    "print(\"Nombre de caractères à traiter :\", len(notre_texte))\n",
    "print(reduce(our_map(notre_texte)))"
   ]
  },
  {
   "cell_type": "code",
   "execution_count": 10,
   "metadata": {},
   "outputs": [
    {
     "name": "stdout",
     "output_type": "stream",
     "text": [
      "Nombre de caractères à traiter : 69000000\n"
     ]
    }
   ],
   "source": [
    "texte = \"Exemple de MapReduce avec Python car Python permet de beaux exemples \"\n",
    "notre_texte2 = []\n",
    "for i in range(10):\n",
    "    notre_texte2.append(notre_texte)\n",
    "print(\"Nombre de caractères à traiter :\", len(notre_texte)*len(notre_texte2))"
   ]
  },
  {
   "cell_type": "code",
   "execution_count": 11,
   "metadata": {},
   "outputs": [
    {
     "name": "stdout",
     "output_type": "stream",
     "text": [
      "2020-11-23 10:41:01.319 Une map de terminée. On fait un reduce.\n",
      "2020-11-23 10:41:03.223 Un reduce terminé.\n",
      "2020-11-23 10:41:03.500 Une map de terminée. On fait un reduce.\n",
      "2020-11-23 10:41:05.424 Un reduce terminé.\n",
      "2020-11-23 10:41:05.732 Une map de terminée. On fait un reduce.\n",
      "2020-11-23 10:41:07.643 Un reduce terminé.\n",
      "2020-11-23 10:41:08.379 Une map de terminée. On fait un reduce.\n",
      "2020-11-23 10:41:10.307 Un reduce terminé.\n",
      "2020-11-23 10:41:10.617 Une map de terminée. On fait un reduce.\n",
      "2020-11-23 10:41:12.600 Un reduce terminé.\n",
      "2020-11-23 10:41:12.895 Une map de terminée. On fait un reduce.\n",
      "2020-11-23 10:41:14.837 Un reduce terminé.\n",
      "2020-11-23 10:41:15.133 Une map de terminée. On fait un reduce.\n",
      "2020-11-23 10:41:17.067 Un reduce terminé.\n",
      "2020-11-23 10:41:17.979 Une map de terminée. On fait un reduce.\n",
      "2020-11-23 10:41:20.246 Un reduce terminé.\n",
      "2020-11-23 10:41:20.822 Une map de terminée. On fait un reduce.\n",
      "2020-11-23 10:41:22.737 Un reduce terminé.\n",
      "2020-11-23 10:41:23.596 Une map de terminée. On fait un reduce.\n",
      "2020-11-23 10:41:25.535 Un reduce terminé.\n",
      "Exemple\t10\n",
      "de\t1800001\n",
      "MapReduce\t900001\n",
      "avec\t900001\n",
      "Python\t1800001\n",
      "car\t900001\n",
      "permet\t900001\n",
      "beaux\t900001\n",
      "exemples.Exemple\t899992\n",
      "exemples.\t10\n",
      "\n",
      "CPU times: user 20.8 s, sys: 2.93 s, total: 23.7 s\n",
      "Wall time: 24.7 s\n"
     ]
    }
   ],
   "source": [
    "%%time\n",
    "from datetime import datetime\n",
    "\n",
    "all_reduce = ''\n",
    "for text in notre_texte2:\n",
    "        res = our_map(text)\n",
    "        print(datetime.utcnow().strftime('%Y-%m-%d %H:%M:%S.%f')[:-3], 'Une map de terminée. On fait un reduce.')\n",
    "        all_reduce += reduce(res)\n",
    "        print(datetime.utcnow().strftime('%Y-%m-%d %H:%M:%S.%f')[:-3], 'Un reduce terminé.')\n",
    "out = reduce(all_reduce)\n",
    "print(out)"
   ]
  },
  {
   "cell_type": "code",
   "execution_count": 78,
   "metadata": {},
   "outputs": [
    {
     "name": "stdout",
     "output_type": "stream",
     "text": [
      "Nombre de caractères à traiter : 69000000\n",
      "2020-11-15 12:17:23.817 Début des maps.\n",
      "\n",
      "2020-11-15 12:17:24.611 Une map de terminée. On fait un reduce.\n",
      "\n",
      "2020-11-15 12:17:24.733 Une map de terminée. On fait un reduce.\n",
      "\n",
      "2020-11-15 12:17:25.171 Une map de terminée. On fait un reduce.\n",
      "\n",
      "2020-11-15 12:17:25.375 Une map de terminée. On fait un reduce.\n",
      "\n",
      "2020-11-15 12:17:25.803 Une map de terminée. On fait un reduce.\n",
      "\n",
      "2020-11-15 12:17:25.993 Une map de terminée. On fait un reduce.\n",
      "\n",
      "2020-11-15 12:17:26.411 Une map de terminée. On fait un reduce.\n",
      "\n",
      "2020-11-15 12:17:26.551 Une map de terminée. On fait un reduce.\n",
      "\n",
      "2020-11-15 12:17:27.269 Une map de terminée. On fait un reduce.\n",
      "\n",
      "2020-11-15 12:17:27.447 Une map de terminée. On fait un reduce.\n",
      "2020-11-15 12:17:27.447 Fin des maps.\n",
      "2020-11-15 12:17:30.427 Un reduce terminé.\n",
      "2020-11-15 12:17:30.914 Un reduce terminé.\n",
      "2020-11-15 12:17:33.894 Un reduce terminé.\n",
      "2020-11-15 12:17:34.278 Un reduce terminé.\n",
      "2020-11-15 12:17:37.293 Un reduce terminé.\n",
      "2020-11-15 12:17:37.654 Un reduce terminé.\n",
      "2020-11-15 12:17:40.671 Un reduce terminé.\n",
      "2020-11-15 12:17:40.880 Un reduce terminé.\n",
      "2020-11-15 12:17:43.672 Un reduce terminé.\n",
      "2020-11-15 12:17:43.743 Un reduce terminé.\n",
      "Exemple\t900001\n",
      "de\t1800001\n",
      "MapReduce\t900001\n",
      "avec\t900001\n",
      "Python\t1800001\n",
      "car\t900001\n",
      "permet\t900001\n",
      "beaux\t900001\n",
      "exemples\t900001\n",
      "\n",
      "CPU times: user 16.7 s, sys: 1.86 s, total: 18.6 s\n",
      "Wall time: 19.9 s\n"
     ]
    }
   ],
   "source": [
    "%%time\n",
    "from datetime import datetime\n",
    "\n",
    "print(\"Nombre de caractères à traiter :\", len(notre_texte)*len(notre_texte2))\n",
    "\n",
    "import concurrent.futures\n",
    "all_reduce = ''\n",
    "with concurrent.futures.ThreadPoolExecutor(max_workers=2) as executor:\n",
    "    futures_map = []\n",
    "    futures_reduce = []\n",
    "    print(datetime.utcnow().strftime('%Y-%m-%d %H:%M:%S.%f')[:-3], 'Début des maps.')\n",
    "    for text in notre_texte2:\n",
    "        futures_map.append(executor.submit(our_map, text=text))\n",
    "    for future in concurrent.futures.as_completed(futures_map):\n",
    "        res_map = future.result()\n",
    "        print()\n",
    "        print(datetime.utcnow().strftime('%Y-%m-%d %H:%M:%S.%f')[:-3], 'Une map de terminée. On fait un reduce.')\n",
    "        futures_reduce.append(executor.submit(reduce, a_map=res_map))\n",
    "    print(datetime.utcnow().strftime('%Y-%m-%d %H:%M:%S.%f')[:-3], 'Fin des maps.')\n",
    "    for future in concurrent.futures.as_completed(futures_reduce):\n",
    "        print(datetime.utcnow().strftime('%Y-%m-%d %H:%M:%S.%f')[:-3], 'Un reduce terminé.')\n",
    "        all_reduce += future.result()\n",
    "out = reduce(all_reduce)\n",
    "print(out)"
   ]
  },
  {
   "cell_type": "code",
   "execution_count": 71,
   "metadata": {},
   "outputs": [
    {
     "name": "stdout",
     "output_type": "stream",
     "text": [
      "2020-11-15 09:22:24.053\n"
     ]
    }
   ],
   "source": [
    "\n"
   ]
  },
  {
   "cell_type": "code",
   "execution_count": null,
   "metadata": {},
   "outputs": [],
   "source": []
  }
 ],
 "metadata": {
  "kernelspec": {
   "display_name": "Python 3",
   "language": "python",
   "name": "python3"
  },
  "language_info": {
   "codemirror_mode": {
    "name": "ipython",
    "version": 3
   },
   "file_extension": ".py",
   "mimetype": "text/x-python",
   "name": "python",
   "nbconvert_exporter": "python",
   "pygments_lexer": "ipython3",
   "version": "3.8.6"
  }
 },
 "nbformat": 4,
 "nbformat_minor": 4
}
