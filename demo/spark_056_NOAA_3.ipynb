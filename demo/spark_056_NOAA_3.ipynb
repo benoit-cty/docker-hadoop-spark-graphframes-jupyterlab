{
 "cells": [
  {
   "cell_type": "markdown",
   "metadata": {},
   "source": [
    "# NOAA : Calcule des pluviométries précédentes\n",
    "\n",
    "Dataset :\n",
    "- le resultat précédent\n",
    "\n",
    "Exercice :\n",
    "- Créer pour chaque ligne des colonnes contenant la (moyenne,somme,max) des 5, 10, 20 jours précédants\n",
    "\n",
    "(PAYS, Date, avg_prcp, sum_rain) ajouter (avg_rain_last_5_days, avg_rain_last_10_days, sum_rain_last_5_days, max_rain_last_5_days)\n",
    "\n",
    "\n",
    "\n",
    "\n",
    "Aide : https://kevinvecmanis.io/pyspark/data%20science/python/2019/06/02/SPX-Analysis-With-PySpark.html"
   ]
  },
  {
   "cell_type": "code",
   "execution_count": 2,
   "metadata": {},
   "outputs": [],
   "source": [
    "#!hdfs dfs -ls /demo/noaa/noaa-raw-data"
   ]
  },
  {
   "cell_type": "code",
   "execution_count": 4,
   "metadata": {},
   "outputs": [],
   "source": [
    "from pyspark import SparkContext\n",
    "from pyspark import SparkConf\n",
    "from pyspark.sql import SparkSession\n",
    "import pyspark.sql.functions as F\n",
    "import shutil"
   ]
  },
  {
   "cell_type": "code",
   "execution_count": null,
   "metadata": {},
   "outputs": [],
   "source": []
  },
  {
   "cell_type": "code",
   "execution_count": 5,
   "metadata": {},
   "outputs": [
    {
     "name": "stdout",
     "output_type": "stream",
     "text": [
      "+-----------+----------+--------+---------+---------+---------+----+---------------+----+---------------+-----+---------------+-----+---------------+----+---------------+\n",
      "|    STATION|      DATE|LATITUDE|LONGITUDE|ELEVATION|     NAME|PRCP|PRCP_ATTRIBUTES|SNWD|SNWD_ATTRIBUTES| TMAX|TMAX_ATTRIBUTES| TMIN|TMIN_ATTRIBUTES|TAVG|TAVG_ATTRIBUTES|\n",
      "+-----------+----------+--------+---------+---------+---------+----+---------------+----+---------------+-----+---------------+-----+---------------+----+---------------+\n",
      "|BE000006447|1833-01-02|    50.8|     4.35|    104.0|UCCLE, BE|null|           null|null|           null|  -14|            ,,I|  -48|            ,,I|null|           null|\n",
      "|BE000006447|1833-01-03|    50.8|     4.35|    104.0|UCCLE, BE|null|           null|null|           null|  -31|            ,,I|  -68|            ,,I|null|           null|\n",
      "|BE000006447|1833-01-04|    50.8|     4.35|    104.0|UCCLE, BE|null|           null|null|           null|  -39|            ,,I|  -68|            ,,I|null|           null|\n",
      "|BE000006447|1833-01-05|    50.8|     4.35|    104.0|UCCLE, BE|null|           null|null|           null|  -44|            ,,I|  -90|            ,,I|null|           null|\n",
      "|BE000006447|1833-01-06|    50.8|     4.35|    104.0|UCCLE, BE|null|           null|null|           null|   14|            ,,I|  -85|            ,,I|null|           null|\n",
      "+-----------+----------+--------+---------+---------+---------+----+---------------+----+---------------+-----+---------------+-----+---------------+----+---------------+\n",
      "only showing top 5 rows\n",
      "\n"
     ]
    }
   ],
   "source": [
    "DATASET_FOLDER = '/xxxx'\n",
    "SPARK_MASTER = 'spark://localhost:7077'\n",
    "APP_NAME = 'NOAA Window - 430'\n",
    "\n",
    "noaa_csv_path = DATASET_FOLDER \n",
    "output = '/stagiaire/votre_dossier/noaa/daily_rain_by_country_window'\n",
    "\n",
    "# Create Spark session\n",
    "spark = SparkSession.builder.master(SPARK_MASTER).appName(APP_NAME).getOrCreate()\n"
   ]
  },
  {
   "cell_type": "code",
   "execution_count": null,
   "metadata": {},
   "outputs": [],
   "source": [
    "sqlDF.write.csv(output)\n",
    "print(sqlDF.columns)\n",
    "sc.stop()"
   ]
  }
 ],
 "metadata": {
  "kernelspec": {
   "display_name": "Python 3",
   "language": "python",
   "name": "python3"
  },
  "language_info": {
   "codemirror_mode": {
    "name": "ipython",
    "version": 3
   },
   "file_extension": ".py",
   "mimetype": "text/x-python",
   "name": "python",
   "nbconvert_exporter": "python",
   "pygments_lexer": "ipython3",
   "version": "3.8.6"
  }
 },
 "nbformat": 4,
 "nbformat_minor": 4
}
